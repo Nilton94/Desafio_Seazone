{
 "cells": [
  {
   "cell_type": "markdown",
   "id": "9c8ddfbf",
   "metadata": {},
   "source": [
    "# IMPORTANDO AS BIBLIOTECAS"
   ]
  },
  {
   "cell_type": "markdown",
   "id": "85b568a2",
   "metadata": {},
   "source": [
    "### Biblioteca para manipulação e análise de dados"
   ]
  },
  {
   "cell_type": "code",
   "execution_count": 1,
   "id": "1e5339a7",
   "metadata": {},
   "outputs": [],
   "source": [
    "import pandas as pd"
   ]
  },
  {
   "cell_type": "markdown",
   "id": "2e1bee19",
   "metadata": {},
   "source": [
    "### Biblioteca para operações matemáticas com base de dados"
   ]
  },
  {
   "cell_type": "code",
   "execution_count": 2,
   "id": "4399cc7f",
   "metadata": {},
   "outputs": [],
   "source": [
    "import numpy as np"
   ]
  },
  {
   "cell_type": "markdown",
   "id": "29c41c98",
   "metadata": {},
   "source": [
    "### Biblioteca para criação de gráficos e visualizações de dados"
   ]
  },
  {
   "cell_type": "code",
   "execution_count": 3,
   "id": "43912fee",
   "metadata": {},
   "outputs": [],
   "source": [
    "import matplotlib.pyplot as plt"
   ]
  },
  {
   "cell_type": "markdown",
   "id": "5a8e7660",
   "metadata": {},
   "source": [
    "### Biblioteca para trabalhar com datas"
   ]
  },
  {
   "cell_type": "code",
   "execution_count": 4,
   "id": "31f44ac0",
   "metadata": {},
   "outputs": [],
   "source": [
    "import datetime"
   ]
  },
  {
   "cell_type": "markdown",
   "id": "b32f3608",
   "metadata": {},
   "source": [
    "# LENDO OS ARQUIVOS"
   ]
  },
  {
   "cell_type": "markdown",
   "id": "ff6e6368",
   "metadata": {},
   "source": [
    "### Arquivo 'desafio_details' (Contém características de cada anúncio)"
   ]
  },
  {
   "cell_type": "code",
   "execution_count": 5,
   "id": "a3b9d8da",
   "metadata": {
    "scrolled": false
   },
   "outputs": [
    {
     "data": {
      "text/html": [
       "<div>\n",
       "<style scoped>\n",
       "    .dataframe tbody tr th:only-of-type {\n",
       "        vertical-align: middle;\n",
       "    }\n",
       "\n",
       "    .dataframe tbody tr th {\n",
       "        vertical-align: top;\n",
       "    }\n",
       "\n",
       "    .dataframe thead th {\n",
       "        text-align: right;\n",
       "    }\n",
       "</style>\n",
       "<table border=\"1\" class=\"dataframe\">\n",
       "  <thead>\n",
       "    <tr style=\"text-align: right;\">\n",
       "      <th></th>\n",
       "      <th>Unnamed: 0</th>\n",
       "      <th>airbnb_listing_id</th>\n",
       "      <th>suburb</th>\n",
       "      <th>ad_name</th>\n",
       "      <th>number_of_bedrooms</th>\n",
       "      <th>number_of_bathrooms</th>\n",
       "      <th>star_rating</th>\n",
       "      <th>is_superhost</th>\n",
       "      <th>number_of_reviews</th>\n",
       "    </tr>\n",
       "  </thead>\n",
       "  <tbody>\n",
       "    <tr>\n",
       "      <th>0</th>\n",
       "      <td>0</td>\n",
       "      <td>31389869</td>\n",
       "      <td>Jurerê</td>\n",
       "      <td>Lindo Apartamento em Jurerê</td>\n",
       "      <td>2.0</td>\n",
       "      <td>2.0</td>\n",
       "      <td>5.0</td>\n",
       "      <td>False</td>\n",
       "      <td>15.0</td>\n",
       "    </tr>\n",
       "    <tr>\n",
       "      <th>1</th>\n",
       "      <td>1</td>\n",
       "      <td>40010667</td>\n",
       "      <td>Canasvieiras</td>\n",
       "      <td>Residencial Arruda, 1 quarto</td>\n",
       "      <td>1.0</td>\n",
       "      <td>1.0</td>\n",
       "      <td>NaN</td>\n",
       "      <td>False</td>\n",
       "      <td>0.0</td>\n",
       "    </tr>\n",
       "    <tr>\n",
       "      <th>2</th>\n",
       "      <td>2</td>\n",
       "      <td>38905997</td>\n",
       "      <td>Ingleses</td>\n",
       "      <td>Apartamento NOVO Completo - Moderno e Sofisticado</td>\n",
       "      <td>1.0</td>\n",
       "      <td>1.0</td>\n",
       "      <td>4.5</td>\n",
       "      <td>True</td>\n",
       "      <td>13.0</td>\n",
       "    </tr>\n",
       "    <tr>\n",
       "      <th>3</th>\n",
       "      <td>3</td>\n",
       "      <td>22343656</td>\n",
       "      <td>Ingleses</td>\n",
       "      <td>06- Apartamento 02 habitaciones</td>\n",
       "      <td>2.0</td>\n",
       "      <td>1.0</td>\n",
       "      <td>5.0</td>\n",
       "      <td>True</td>\n",
       "      <td>28.0</td>\n",
       "    </tr>\n",
       "    <tr>\n",
       "      <th>4</th>\n",
       "      <td>4</td>\n",
       "      <td>18328184</td>\n",
       "      <td>Canasvieiras</td>\n",
       "      <td>Apto 2 quartos em Canasvieiras, Florianopolis!</td>\n",
       "      <td>2.0</td>\n",
       "      <td>1.0</td>\n",
       "      <td>5.0</td>\n",
       "      <td>True</td>\n",
       "      <td>35.0</td>\n",
       "    </tr>\n",
       "  </tbody>\n",
       "</table>\n",
       "</div>"
      ],
      "text/plain": [
       "   Unnamed: 0  airbnb_listing_id        suburb  \\\n",
       "0           0           31389869        Jurerê   \n",
       "1           1           40010667  Canasvieiras   \n",
       "2           2           38905997      Ingleses   \n",
       "3           3           22343656      Ingleses   \n",
       "4           4           18328184  Canasvieiras   \n",
       "\n",
       "                                             ad_name  number_of_bedrooms  \\\n",
       "0                        Lindo Apartamento em Jurerê                 2.0   \n",
       "1                       Residencial Arruda, 1 quarto                 1.0   \n",
       "2  Apartamento NOVO Completo - Moderno e Sofisticado                 1.0   \n",
       "3                    06- Apartamento 02 habitaciones                 2.0   \n",
       "4     Apto 2 quartos em Canasvieiras, Florianopolis!                 2.0   \n",
       "\n",
       "   number_of_bathrooms  star_rating  is_superhost  number_of_reviews  \n",
       "0                  2.0          5.0         False               15.0  \n",
       "1                  1.0          NaN         False                0.0  \n",
       "2                  1.0          4.5          True               13.0  \n",
       "3                  1.0          5.0          True               28.0  \n",
       "4                  1.0          5.0          True               35.0  "
      ]
     },
     "execution_count": 5,
     "metadata": {},
     "output_type": "execute_result"
    }
   ],
   "source": [
    "detalhes = pd.read_csv('desafio_details.csv')\n",
    "detalhes.head()"
   ]
  },
  {
   "cell_type": "code",
   "execution_count": 6,
   "id": "2f8749c5",
   "metadata": {},
   "outputs": [
    {
     "data": {
      "text/plain": [
       "(4691, 9)"
      ]
     },
     "execution_count": 6,
     "metadata": {},
     "output_type": "execute_result"
    }
   ],
   "source": [
    "detalhes.shape"
   ]
  },
  {
   "cell_type": "markdown",
   "id": "099c124b",
   "metadata": {},
   "source": [
    "### Arquivo 'desafio_priceav' (Contém dados de ocupação e preço de anúncios)"
   ]
  },
  {
   "cell_type": "code",
   "execution_count": 7,
   "id": "06b23aee",
   "metadata": {},
   "outputs": [
    {
     "data": {
      "text/html": [
       "<div>\n",
       "<style scoped>\n",
       "    .dataframe tbody tr th:only-of-type {\n",
       "        vertical-align: middle;\n",
       "    }\n",
       "\n",
       "    .dataframe tbody tr th {\n",
       "        vertical-align: top;\n",
       "    }\n",
       "\n",
       "    .dataframe thead th {\n",
       "        text-align: right;\n",
       "    }\n",
       "</style>\n",
       "<table border=\"1\" class=\"dataframe\">\n",
       "  <thead>\n",
       "    <tr style=\"text-align: right;\">\n",
       "      <th></th>\n",
       "      <th>Unnamed: 0</th>\n",
       "      <th>Unnamed: 0.1</th>\n",
       "      <th>airbnb_listing_id</th>\n",
       "      <th>booked_on</th>\n",
       "      <th>date</th>\n",
       "      <th>price_string</th>\n",
       "      <th>occupied</th>\n",
       "    </tr>\n",
       "  </thead>\n",
       "  <tbody>\n",
       "    <tr>\n",
       "      <th>0</th>\n",
       "      <td>0</td>\n",
       "      <td>2148</td>\n",
       "      <td>40201349</td>\n",
       "      <td>blank</td>\n",
       "      <td>2020-11-15</td>\n",
       "      <td>250.0</td>\n",
       "      <td>0</td>\n",
       "    </tr>\n",
       "    <tr>\n",
       "      <th>1</th>\n",
       "      <td>1</td>\n",
       "      <td>2159</td>\n",
       "      <td>40201349</td>\n",
       "      <td>blank</td>\n",
       "      <td>2020-11-26</td>\n",
       "      <td>250.0</td>\n",
       "      <td>0</td>\n",
       "    </tr>\n",
       "    <tr>\n",
       "      <th>2</th>\n",
       "      <td>2</td>\n",
       "      <td>2160</td>\n",
       "      <td>40201349</td>\n",
       "      <td>blank</td>\n",
       "      <td>2020-11-27</td>\n",
       "      <td>250.0</td>\n",
       "      <td>0</td>\n",
       "    </tr>\n",
       "    <tr>\n",
       "      <th>3</th>\n",
       "      <td>3</td>\n",
       "      <td>2173</td>\n",
       "      <td>40201349</td>\n",
       "      <td>blank</td>\n",
       "      <td>2020-12-10</td>\n",
       "      <td>250.0</td>\n",
       "      <td>0</td>\n",
       "    </tr>\n",
       "    <tr>\n",
       "      <th>4</th>\n",
       "      <td>4</td>\n",
       "      <td>2226</td>\n",
       "      <td>40201349</td>\n",
       "      <td>blank</td>\n",
       "      <td>2021-02-01</td>\n",
       "      <td>250.0</td>\n",
       "      <td>0</td>\n",
       "    </tr>\n",
       "  </tbody>\n",
       "</table>\n",
       "</div>"
      ],
      "text/plain": [
       "   Unnamed: 0  Unnamed: 0.1  airbnb_listing_id booked_on        date  \\\n",
       "0           0          2148           40201349     blank  2020-11-15   \n",
       "1           1          2159           40201349     blank  2020-11-26   \n",
       "2           2          2160           40201349     blank  2020-11-27   \n",
       "3           3          2173           40201349     blank  2020-12-10   \n",
       "4           4          2226           40201349     blank  2021-02-01   \n",
       "\n",
       "   price_string  occupied  \n",
       "0         250.0         0  \n",
       "1         250.0         0  \n",
       "2         250.0         0  \n",
       "3         250.0         0  \n",
       "4         250.0         0  "
      ]
     },
     "execution_count": 7,
     "metadata": {},
     "output_type": "execute_result"
    }
   ],
   "source": [
    "preço = pd.read_csv('desafio_priceav.csv')\n",
    "preço.head()"
   ]
  },
  {
   "cell_type": "code",
   "execution_count": 8,
   "id": "99a628e6",
   "metadata": {},
   "outputs": [
    {
     "data": {
      "text/plain": [
       "(354520, 7)"
      ]
     },
     "execution_count": 8,
     "metadata": {},
     "output_type": "execute_result"
    }
   ],
   "source": [
    "preço.shape"
   ]
  },
  {
   "cell_type": "markdown",
   "id": "c498be3d",
   "metadata": {},
   "source": [
    "# QUESTÃO 1: ordene os bairros em ordem crescente de número de listings"
   ]
  },
  {
   "cell_type": "markdown",
   "id": "72bf31c2",
   "metadata": {},
   "source": [
    "### Ordenando os dados"
   ]
  },
  {
   "cell_type": "code",
   "execution_count": 9,
   "id": "50be0e16",
   "metadata": {},
   "outputs": [],
   "source": [
    "bairros_listings = pd.pivot_table(detalhes, values = 'airbnb_listing_id', index = 'suburb', aggfunc = pd.Series.nunique).sort_values(by = 'airbnb_listing_id', ascending = True).reset_index()"
   ]
  },
  {
   "cell_type": "code",
   "execution_count": 10,
   "id": "aa553120",
   "metadata": {},
   "outputs": [
    {
     "data": {
      "text/html": [
       "<div>\n",
       "<style scoped>\n",
       "    .dataframe tbody tr th:only-of-type {\n",
       "        vertical-align: middle;\n",
       "    }\n",
       "\n",
       "    .dataframe tbody tr th {\n",
       "        vertical-align: top;\n",
       "    }\n",
       "\n",
       "    .dataframe thead th {\n",
       "        text-align: right;\n",
       "    }\n",
       "</style>\n",
       "<table border=\"1\" class=\"dataframe\">\n",
       "  <thead>\n",
       "    <tr style=\"text-align: right;\">\n",
       "      <th></th>\n",
       "      <th>suburb</th>\n",
       "      <th>airbnb_listing_id</th>\n",
       "    </tr>\n",
       "  </thead>\n",
       "  <tbody>\n",
       "    <tr>\n",
       "      <th>0</th>\n",
       "      <td>Centro</td>\n",
       "      <td>278</td>\n",
       "    </tr>\n",
       "    <tr>\n",
       "      <th>1</th>\n",
       "      <td>Lagoa da Conceição</td>\n",
       "      <td>309</td>\n",
       "    </tr>\n",
       "    <tr>\n",
       "      <th>2</th>\n",
       "      <td>Jurerê</td>\n",
       "      <td>539</td>\n",
       "    </tr>\n",
       "    <tr>\n",
       "      <th>3</th>\n",
       "      <td>Canasvieiras</td>\n",
       "      <td>1177</td>\n",
       "    </tr>\n",
       "    <tr>\n",
       "      <th>4</th>\n",
       "      <td>Ingleses</td>\n",
       "      <td>2388</td>\n",
       "    </tr>\n",
       "  </tbody>\n",
       "</table>\n",
       "</div>"
      ],
      "text/plain": [
       "               suburb  airbnb_listing_id\n",
       "0              Centro                278\n",
       "1  Lagoa da Conceição                309\n",
       "2              Jurerê                539\n",
       "3        Canasvieiras               1177\n",
       "4            Ingleses               2388"
      ]
     },
     "execution_count": 10,
     "metadata": {},
     "output_type": "execute_result"
    }
   ],
   "source": [
    "bairros_listings"
   ]
  },
  {
   "cell_type": "markdown",
   "id": "d5200648",
   "metadata": {},
   "source": [
    "### Total de listings"
   ]
  },
  {
   "cell_type": "code",
   "execution_count": 11,
   "id": "889c7b81",
   "metadata": {},
   "outputs": [
    {
     "data": {
      "text/plain": [
       "4691"
      ]
     },
     "execution_count": 11,
     "metadata": {},
     "output_type": "execute_result"
    }
   ],
   "source": [
    "total_listings = bairros_listings.airbnb_listing_id.sum()\n",
    "total_listings"
   ]
  },
  {
   "cell_type": "markdown",
   "id": "944447c2",
   "metadata": {},
   "source": [
    "### Porcentagem de listings pelos bairros com maior e menor número de listings"
   ]
  },
  {
   "cell_type": "code",
   "execution_count": 12,
   "id": "eca5ddaf",
   "metadata": {},
   "outputs": [],
   "source": [
    "porcent_centro_listings = bairros_listings[bairros_listings['suburb'] == 'Centro'].airbnb_listing_id.sum()/total_listings"
   ]
  },
  {
   "cell_type": "code",
   "execution_count": 13,
   "id": "5ee655bb",
   "metadata": {},
   "outputs": [],
   "source": [
    "porcent_ingleses_listings = bairros_listings[bairros_listings['suburb'] == 'Ingleses'].airbnb_listing_id.sum()/total_listings"
   ]
  },
  {
   "cell_type": "code",
   "execution_count": 14,
   "id": "940c858d",
   "metadata": {},
   "outputs": [
    {
     "data": {
      "text/plain": [
       "0.06"
      ]
     },
     "execution_count": 14,
     "metadata": {},
     "output_type": "execute_result"
    }
   ],
   "source": [
    "porcent_centro_listings.round(2)"
   ]
  },
  {
   "cell_type": "code",
   "execution_count": 15,
   "id": "b6360dc7",
   "metadata": {},
   "outputs": [
    {
     "data": {
      "text/plain": [
       "0.51"
      ]
     },
     "execution_count": 15,
     "metadata": {},
     "output_type": "execute_result"
    }
   ],
   "source": [
    "porcent_ingleses_listings.round(2)"
   ]
  },
  {
   "cell_type": "markdown",
   "id": "c7d0a876",
   "metadata": {},
   "source": [
    "### Gráfico Listings x Bairro"
   ]
  },
  {
   "cell_type": "code",
   "execution_count": 16,
   "id": "c1dd7ec4",
   "metadata": {},
   "outputs": [
    {
     "data": {
      "image/png": "[encoded data removed]",
      "text/plain": [
       "<Figure size 432x288 with 1 Axes>"
      ]
     },
     "metadata": {
      "needs_background": "light"
     },
     "output_type": "display_data"
    }
   ],
   "source": [
    "plt.bar(bairros_listings['suburb'],bairros_listings['airbnb_listing_id'])\n",
    "plt.title(\"Listings x Bairro\")\n",
    "plt.show()"
   ]
  },
  {
   "cell_type": "markdown",
   "id": "02c6c047",
   "metadata": {},
   "source": [
    "### Conclusão Questão 1"
   ]
  },
  {
   "cell_type": "markdown",
   "id": "2e969a26",
   "metadata": {},
   "source": [
    "Conforme os dados acima, o bairro \"Centro\" possui o menor número de anúncios, com 278, correspondendo a 6% do total. Em contrapartida, o bairro \"Ingleses\" possui o maior número de anúncios, com um total de 2388, totalizando 51% dos anúncios. O total de anúncios ficou em 4691."
   ]
  },
  {
   "cell_type": "markdown",
   "id": "7c2debdf",
   "metadata": {},
   "source": [
    "# QUESTÃO 2: Ordene os bairros em ordem crescente de faturamento médio dos listings"
   ]
  },
  {
   "cell_type": "markdown",
   "id": "d922cae9",
   "metadata": {},
   "source": [
    "### Criando uma junção entre 'detalhes' e 'preço' (já que os bairros estão em um dataframe e os valores no outro)"
   ]
  },
  {
   "cell_type": "code",
   "execution_count": 17,
   "id": "0c2fc6d5",
   "metadata": {},
   "outputs": [],
   "source": [
    "junção = preço.merge(detalhes,on = 'airbnb_listing_id')"
   ]
  },
  {
   "cell_type": "code",
   "execution_count": 18,
   "id": "b3052afc",
   "metadata": {},
   "outputs": [
    {
     "data": {
      "text/html": [
       "<div>\n",
       "<style scoped>\n",
       "    .dataframe tbody tr th:only-of-type {\n",
       "        vertical-align: middle;\n",
       "    }\n",
       "\n",
       "    .dataframe tbody tr th {\n",
       "        vertical-align: top;\n",
       "    }\n",
       "\n",
       "    .dataframe thead th {\n",
       "        text-align: right;\n",
       "    }\n",
       "</style>\n",
       "<table border=\"1\" class=\"dataframe\">\n",
       "  <thead>\n",
       "    <tr style=\"text-align: right;\">\n",
       "      <th></th>\n",
       "      <th>Unnamed: 0_x</th>\n",
       "      <th>Unnamed: 0.1</th>\n",
       "      <th>airbnb_listing_id</th>\n",
       "      <th>booked_on</th>\n",
       "      <th>date</th>\n",
       "      <th>price_string</th>\n",
       "      <th>occupied</th>\n",
       "      <th>Unnamed: 0_y</th>\n",
       "      <th>suburb</th>\n",
       "      <th>ad_name</th>\n",
       "      <th>number_of_bedrooms</th>\n",
       "      <th>number_of_bathrooms</th>\n",
       "      <th>star_rating</th>\n",
       "      <th>is_superhost</th>\n",
       "      <th>number_of_reviews</th>\n",
       "    </tr>\n",
       "  </thead>\n",
       "  <tbody>\n",
       "    <tr>\n",
       "      <th>0</th>\n",
       "      <td>0</td>\n",
       "      <td>2148</td>\n",
       "      <td>40201349</td>\n",
       "      <td>blank</td>\n",
       "      <td>2020-11-15</td>\n",
       "      <td>250.0</td>\n",
       "      <td>0</td>\n",
       "      <td>349</td>\n",
       "      <td>Ingleses</td>\n",
       "      <td>Excelente apartamento de dois dormitórios.</td>\n",
       "      <td>2.0</td>\n",
       "      <td>2.0</td>\n",
       "      <td>NaN</td>\n",
       "      <td>False</td>\n",
       "      <td>0.0</td>\n",
       "    </tr>\n",
       "    <tr>\n",
       "      <th>1</th>\n",
       "      <td>1</td>\n",
       "      <td>2159</td>\n",
       "      <td>40201349</td>\n",
       "      <td>blank</td>\n",
       "      <td>2020-11-26</td>\n",
       "      <td>250.0</td>\n",
       "      <td>0</td>\n",
       "      <td>349</td>\n",
       "      <td>Ingleses</td>\n",
       "      <td>Excelente apartamento de dois dormitórios.</td>\n",
       "      <td>2.0</td>\n",
       "      <td>2.0</td>\n",
       "      <td>NaN</td>\n",
       "      <td>False</td>\n",
       "      <td>0.0</td>\n",
       "    </tr>\n",
       "    <tr>\n",
       "      <th>2</th>\n",
       "      <td>2</td>\n",
       "      <td>2160</td>\n",
       "      <td>40201349</td>\n",
       "      <td>blank</td>\n",
       "      <td>2020-11-27</td>\n",
       "      <td>250.0</td>\n",
       "      <td>0</td>\n",
       "      <td>349</td>\n",
       "      <td>Ingleses</td>\n",
       "      <td>Excelente apartamento de dois dormitórios.</td>\n",
       "      <td>2.0</td>\n",
       "      <td>2.0</td>\n",
       "      <td>NaN</td>\n",
       "      <td>False</td>\n",
       "      <td>0.0</td>\n",
       "    </tr>\n",
       "    <tr>\n",
       "      <th>3</th>\n",
       "      <td>3</td>\n",
       "      <td>2173</td>\n",
       "      <td>40201349</td>\n",
       "      <td>blank</td>\n",
       "      <td>2020-12-10</td>\n",
       "      <td>250.0</td>\n",
       "      <td>0</td>\n",
       "      <td>349</td>\n",
       "      <td>Ingleses</td>\n",
       "      <td>Excelente apartamento de dois dormitórios.</td>\n",
       "      <td>2.0</td>\n",
       "      <td>2.0</td>\n",
       "      <td>NaN</td>\n",
       "      <td>False</td>\n",
       "      <td>0.0</td>\n",
       "    </tr>\n",
       "    <tr>\n",
       "      <th>4</th>\n",
       "      <td>4</td>\n",
       "      <td>2226</td>\n",
       "      <td>40201349</td>\n",
       "      <td>blank</td>\n",
       "      <td>2021-02-01</td>\n",
       "      <td>250.0</td>\n",
       "      <td>0</td>\n",
       "      <td>349</td>\n",
       "      <td>Ingleses</td>\n",
       "      <td>Excelente apartamento de dois dormitórios.</td>\n",
       "      <td>2.0</td>\n",
       "      <td>2.0</td>\n",
       "      <td>NaN</td>\n",
       "      <td>False</td>\n",
       "      <td>0.0</td>\n",
       "    </tr>\n",
       "  </tbody>\n",
       "</table>\n",
       "</div>"
      ],
      "text/plain": [
       "   Unnamed: 0_x  Unnamed: 0.1  airbnb_listing_id booked_on        date  \\\n",
       "0             0          2148           40201349     blank  2020-11-15   \n",
       "1             1          2159           40201349     blank  2020-11-26   \n",
       "2             2          2160           40201349     blank  2020-11-27   \n",
       "3             3          2173           40201349     blank  2020-12-10   \n",
       "4             4          2226           40201349     blank  2021-02-01   \n",
       "\n",
       "   price_string  occupied  Unnamed: 0_y    suburb  \\\n",
       "0         250.0         0           349  Ingleses   \n",
       "1         250.0         0           349  Ingleses   \n",
       "2         250.0         0           349  Ingleses   \n",
       "3         250.0         0           349  Ingleses   \n",
       "4         250.0         0           349  Ingleses   \n",
       "\n",
       "                                      ad_name  number_of_bedrooms  \\\n",
       "0  Excelente apartamento de dois dormitórios.                 2.0   \n",
       "1  Excelente apartamento de dois dormitórios.                 2.0   \n",
       "2  Excelente apartamento de dois dormitórios.                 2.0   \n",
       "3  Excelente apartamento de dois dormitórios.                 2.0   \n",
       "4  Excelente apartamento de dois dormitórios.                 2.0   \n",
       "\n",
       "   number_of_bathrooms  star_rating  is_superhost  number_of_reviews  \n",
       "0                  2.0          NaN         False                0.0  \n",
       "1                  2.0          NaN         False                0.0  \n",
       "2                  2.0          NaN         False                0.0  \n",
       "3                  2.0          NaN         False                0.0  \n",
       "4                  2.0          NaN         False                0.0  "
      ]
     },
     "execution_count": 18,
     "metadata": {},
     "output_type": "execute_result"
    }
   ],
   "source": [
    "junção.head()"
   ]
  },
  {
   "cell_type": "markdown",
   "id": "d61942fa",
   "metadata": {},
   "source": [
    "### Retirando as linhas com occupied == 0, já que o faturamento diz respeito às datas ocupadas"
   ]
  },
  {
   "cell_type": "code",
   "execution_count": 19,
   "id": "37e45ae4",
   "metadata": {
    "scrolled": false
   },
   "outputs": [
    {
     "name": "stderr",
     "output_type": "stream",
     "text": [
      "C:\\Users\\NILTON~1\\AppData\\Local\\Temp/ipykernel_9176/3465988394.py:2: SettingWithCopyWarning: \n",
      "A value is trying to be set on a copy of a slice from a DataFrame.\n",
      "Try using .loc[row_indexer,col_indexer] = value instead\n",
      "\n",
      "See the caveats in the documentation: https://pandas.pydata.org/pandas-docs/stable/user_guide/indexing.html#returning-a-view-versus-a-copy\n",
      "  junção_final['Média_Price'] = junção_final['price_string']\n"
     ]
    },
    {
     "data": {
      "text/html": [
       "<div>\n",
       "<style scoped>\n",
       "    .dataframe tbody tr th:only-of-type {\n",
       "        vertical-align: middle;\n",
       "    }\n",
       "\n",
       "    .dataframe tbody tr th {\n",
       "        vertical-align: top;\n",
       "    }\n",
       "\n",
       "    .dataframe thead th {\n",
       "        text-align: right;\n",
       "    }\n",
       "</style>\n",
       "<table border=\"1\" class=\"dataframe\">\n",
       "  <thead>\n",
       "    <tr style=\"text-align: right;\">\n",
       "      <th></th>\n",
       "      <th>Unnamed: 0_x</th>\n",
       "      <th>Unnamed: 0.1</th>\n",
       "      <th>airbnb_listing_id</th>\n",
       "      <th>booked_on</th>\n",
       "      <th>date</th>\n",
       "      <th>price_string</th>\n",
       "      <th>occupied</th>\n",
       "      <th>Unnamed: 0_y</th>\n",
       "      <th>suburb</th>\n",
       "      <th>ad_name</th>\n",
       "      <th>number_of_bedrooms</th>\n",
       "      <th>number_of_bathrooms</th>\n",
       "      <th>star_rating</th>\n",
       "      <th>is_superhost</th>\n",
       "      <th>number_of_reviews</th>\n",
       "      <th>Média_Price</th>\n",
       "    </tr>\n",
       "  </thead>\n",
       "  <tbody>\n",
       "    <tr>\n",
       "      <th>12</th>\n",
       "      <td>12</td>\n",
       "      <td>6452</td>\n",
       "      <td>40206270</td>\n",
       "      <td>2021-01-01 00:00:00</td>\n",
       "      <td>2021-01-01</td>\n",
       "      <td>380.0</td>\n",
       "      <td>1</td>\n",
       "      <td>326</td>\n",
       "      <td>Ingleses</td>\n",
       "      <td>Loft novo próximo ao MAR!!</td>\n",
       "      <td>1.0</td>\n",
       "      <td>1.0</td>\n",
       "      <td>NaN</td>\n",
       "      <td>False</td>\n",
       "      <td>1.0</td>\n",
       "      <td>380.0</td>\n",
       "    </tr>\n",
       "    <tr>\n",
       "      <th>13</th>\n",
       "      <td>13</td>\n",
       "      <td>6453</td>\n",
       "      <td>40206270</td>\n",
       "      <td>2021-01-01 00:00:00</td>\n",
       "      <td>2021-01-02</td>\n",
       "      <td>380.0</td>\n",
       "      <td>1</td>\n",
       "      <td>326</td>\n",
       "      <td>Ingleses</td>\n",
       "      <td>Loft novo próximo ao MAR!!</td>\n",
       "      <td>1.0</td>\n",
       "      <td>1.0</td>\n",
       "      <td>NaN</td>\n",
       "      <td>False</td>\n",
       "      <td>1.0</td>\n",
       "      <td>380.0</td>\n",
       "    </tr>\n",
       "    <tr>\n",
       "      <th>52</th>\n",
       "      <td>52</td>\n",
       "      <td>6492</td>\n",
       "      <td>40206270</td>\n",
       "      <td>2021-02-10 00:00:00</td>\n",
       "      <td>2021-02-10</td>\n",
       "      <td>195.0</td>\n",
       "      <td>1</td>\n",
       "      <td>326</td>\n",
       "      <td>Ingleses</td>\n",
       "      <td>Loft novo próximo ao MAR!!</td>\n",
       "      <td>1.0</td>\n",
       "      <td>1.0</td>\n",
       "      <td>NaN</td>\n",
       "      <td>False</td>\n",
       "      <td>1.0</td>\n",
       "      <td>195.0</td>\n",
       "    </tr>\n",
       "    <tr>\n",
       "      <th>53</th>\n",
       "      <td>53</td>\n",
       "      <td>6493</td>\n",
       "      <td>40206270</td>\n",
       "      <td>2021-02-10 00:00:00</td>\n",
       "      <td>2021-02-11</td>\n",
       "      <td>350.0</td>\n",
       "      <td>1</td>\n",
       "      <td>326</td>\n",
       "      <td>Ingleses</td>\n",
       "      <td>Loft novo próximo ao MAR!!</td>\n",
       "      <td>1.0</td>\n",
       "      <td>1.0</td>\n",
       "      <td>NaN</td>\n",
       "      <td>False</td>\n",
       "      <td>1.0</td>\n",
       "      <td>350.0</td>\n",
       "    </tr>\n",
       "    <tr>\n",
       "      <th>54</th>\n",
       "      <td>54</td>\n",
       "      <td>6494</td>\n",
       "      <td>40206270</td>\n",
       "      <td>2021-02-10 00:00:00</td>\n",
       "      <td>2021-02-12</td>\n",
       "      <td>350.0</td>\n",
       "      <td>1</td>\n",
       "      <td>326</td>\n",
       "      <td>Ingleses</td>\n",
       "      <td>Loft novo próximo ao MAR!!</td>\n",
       "      <td>1.0</td>\n",
       "      <td>1.0</td>\n",
       "      <td>NaN</td>\n",
       "      <td>False</td>\n",
       "      <td>1.0</td>\n",
       "      <td>350.0</td>\n",
       "    </tr>\n",
       "    <tr>\n",
       "      <th>...</th>\n",
       "      <td>...</td>\n",
       "      <td>...</td>\n",
       "      <td>...</td>\n",
       "      <td>...</td>\n",
       "      <td>...</td>\n",
       "      <td>...</td>\n",
       "      <td>...</td>\n",
       "      <td>...</td>\n",
       "      <td>...</td>\n",
       "      <td>...</td>\n",
       "      <td>...</td>\n",
       "      <td>...</td>\n",
       "      <td>...</td>\n",
       "      <td>...</td>\n",
       "      <td>...</td>\n",
       "      <td>...</td>\n",
       "    </tr>\n",
       "    <tr>\n",
       "      <th>354508</th>\n",
       "      <td>64589</td>\n",
       "      <td>4298108</td>\n",
       "      <td>40199361</td>\n",
       "      <td>2020-09-16 00:00:00</td>\n",
       "      <td>2021-03-19</td>\n",
       "      <td>250.0</td>\n",
       "      <td>1</td>\n",
       "      <td>3244</td>\n",
       "      <td>Canasvieiras</td>\n",
       "      <td>Hospede-se no Porto Caravelas em Canasvieiras.</td>\n",
       "      <td>2.0</td>\n",
       "      <td>1.0</td>\n",
       "      <td>5.0</td>\n",
       "      <td>False</td>\n",
       "      <td>4.0</td>\n",
       "      <td>250.0</td>\n",
       "    </tr>\n",
       "    <tr>\n",
       "      <th>354514</th>\n",
       "      <td>64595</td>\n",
       "      <td>4298114</td>\n",
       "      <td>40199361</td>\n",
       "      <td>2020-09-14 00:00:00</td>\n",
       "      <td>2021-03-25</td>\n",
       "      <td>250.0</td>\n",
       "      <td>1</td>\n",
       "      <td>3244</td>\n",
       "      <td>Canasvieiras</td>\n",
       "      <td>Hospede-se no Porto Caravelas em Canasvieiras.</td>\n",
       "      <td>2.0</td>\n",
       "      <td>1.0</td>\n",
       "      <td>5.0</td>\n",
       "      <td>False</td>\n",
       "      <td>4.0</td>\n",
       "      <td>250.0</td>\n",
       "    </tr>\n",
       "    <tr>\n",
       "      <th>354517</th>\n",
       "      <td>64598</td>\n",
       "      <td>4298117</td>\n",
       "      <td>40199361</td>\n",
       "      <td>2020-09-14 00:00:00</td>\n",
       "      <td>2021-03-28</td>\n",
       "      <td>250.0</td>\n",
       "      <td>1</td>\n",
       "      <td>3244</td>\n",
       "      <td>Canasvieiras</td>\n",
       "      <td>Hospede-se no Porto Caravelas em Canasvieiras.</td>\n",
       "      <td>2.0</td>\n",
       "      <td>1.0</td>\n",
       "      <td>5.0</td>\n",
       "      <td>False</td>\n",
       "      <td>4.0</td>\n",
       "      <td>250.0</td>\n",
       "    </tr>\n",
       "    <tr>\n",
       "      <th>354518</th>\n",
       "      <td>64599</td>\n",
       "      <td>4298118</td>\n",
       "      <td>40199361</td>\n",
       "      <td>2020-09-14 00:00:00</td>\n",
       "      <td>2021-03-29</td>\n",
       "      <td>250.0</td>\n",
       "      <td>1</td>\n",
       "      <td>3244</td>\n",
       "      <td>Canasvieiras</td>\n",
       "      <td>Hospede-se no Porto Caravelas em Canasvieiras.</td>\n",
       "      <td>2.0</td>\n",
       "      <td>1.0</td>\n",
       "      <td>5.0</td>\n",
       "      <td>False</td>\n",
       "      <td>4.0</td>\n",
       "      <td>250.0</td>\n",
       "    </tr>\n",
       "    <tr>\n",
       "      <th>354519</th>\n",
       "      <td>64600</td>\n",
       "      <td>4298119</td>\n",
       "      <td>40199361</td>\n",
       "      <td>2020-12-03 00:00:00</td>\n",
       "      <td>2021-03-30</td>\n",
       "      <td>200.0</td>\n",
       "      <td>1</td>\n",
       "      <td>3244</td>\n",
       "      <td>Canasvieiras</td>\n",
       "      <td>Hospede-se no Porto Caravelas em Canasvieiras.</td>\n",
       "      <td>2.0</td>\n",
       "      <td>1.0</td>\n",
       "      <td>5.0</td>\n",
       "      <td>False</td>\n",
       "      <td>4.0</td>\n",
       "      <td>200.0</td>\n",
       "    </tr>\n",
       "  </tbody>\n",
       "</table>\n",
       "<p>140508 rows × 16 columns</p>\n",
       "</div>"
      ],
      "text/plain": [
       "        Unnamed: 0_x  Unnamed: 0.1  airbnb_listing_id            booked_on  \\\n",
       "12                12          6452           40206270  2021-01-01 00:00:00   \n",
       "13                13          6453           40206270  2021-01-01 00:00:00   \n",
       "52                52          6492           40206270  2021-02-10 00:00:00   \n",
       "53                53          6493           40206270  2021-02-10 00:00:00   \n",
       "54                54          6494           40206270  2021-02-10 00:00:00   \n",
       "...              ...           ...                ...                  ...   \n",
       "354508         64589       4298108           40199361  2020-09-16 00:00:00   \n",
       "354514         64595       4298114           40199361  2020-09-14 00:00:00   \n",
       "354517         64598       4298117           40199361  2020-09-14 00:00:00   \n",
       "354518         64599       4298118           40199361  2020-09-14 00:00:00   \n",
       "354519         64600       4298119           40199361  2020-12-03 00:00:00   \n",
       "\n",
       "              date  price_string  occupied  Unnamed: 0_y        suburb  \\\n",
       "12      2021-01-01         380.0         1           326      Ingleses   \n",
       "13      2021-01-02         380.0         1           326      Ingleses   \n",
       "52      2021-02-10         195.0         1           326      Ingleses   \n",
       "53      2021-02-11         350.0         1           326      Ingleses   \n",
       "54      2021-02-12         350.0         1           326      Ingleses   \n",
       "...            ...           ...       ...           ...           ...   \n",
       "354508  2021-03-19         250.0         1          3244  Canasvieiras   \n",
       "354514  2021-03-25         250.0         1          3244  Canasvieiras   \n",
       "354517  2021-03-28         250.0         1          3244  Canasvieiras   \n",
       "354518  2021-03-29         250.0         1          3244  Canasvieiras   \n",
       "354519  2021-03-30         200.0         1          3244  Canasvieiras   \n",
       "\n",
       "                                               ad_name  number_of_bedrooms  \\\n",
       "12                          Loft novo próximo ao MAR!!                 1.0   \n",
       "13                          Loft novo próximo ao MAR!!                 1.0   \n",
       "52                          Loft novo próximo ao MAR!!                 1.0   \n",
       "53                          Loft novo próximo ao MAR!!                 1.0   \n",
       "54                          Loft novo próximo ao MAR!!                 1.0   \n",
       "...                                                ...                 ...   \n",
       "354508  Hospede-se no Porto Caravelas em Canasvieiras.                 2.0   \n",
       "354514  Hospede-se no Porto Caravelas em Canasvieiras.                 2.0   \n",
       "354517  Hospede-se no Porto Caravelas em Canasvieiras.                 2.0   \n",
       "354518  Hospede-se no Porto Caravelas em Canasvieiras.                 2.0   \n",
       "354519  Hospede-se no Porto Caravelas em Canasvieiras.                 2.0   \n",
       "\n",
       "        number_of_bathrooms  star_rating  is_superhost  number_of_reviews  \\\n",
       "12                      1.0          NaN         False                1.0   \n",
       "13                      1.0          NaN         False                1.0   \n",
       "52                      1.0          NaN         False                1.0   \n",
       "53                      1.0          NaN         False                1.0   \n",
       "54                      1.0          NaN         False                1.0   \n",
       "...                     ...          ...           ...                ...   \n",
       "354508                  1.0          5.0         False                4.0   \n",
       "354514                  1.0          5.0         False                4.0   \n",
       "354517                  1.0          5.0         False                4.0   \n",
       "354518                  1.0          5.0         False                4.0   \n",
       "354519                  1.0          5.0         False                4.0   \n",
       "\n",
       "        Média_Price  \n",
       "12            380.0  \n",
       "13            380.0  \n",
       "52            195.0  \n",
       "53            350.0  \n",
       "54            350.0  \n",
       "...             ...  \n",
       "354508        250.0  \n",
       "354514        250.0  \n",
       "354517        250.0  \n",
       "354518        250.0  \n",
       "354519        200.0  \n",
       "\n",
       "[140508 rows x 16 columns]"
      ]
     },
     "execution_count": 19,
     "metadata": {},
     "output_type": "execute_result"
    }
   ],
   "source": [
    "junção_final = junção[junção['occupied'] == 1]\n",
    "junção_final['Média_Price'] = junção_final['price_string']\n",
    "junção_final"
   ]
  },
  {
   "cell_type": "markdown",
   "id": "647f762a",
   "metadata": {},
   "source": [
    "### Cálculo do faturamento por bairro"
   ]
  },
  {
   "cell_type": "code",
   "execution_count": 20,
   "id": "fda1f111",
   "metadata": {},
   "outputs": [
    {
     "data": {
      "text/html": [
       "<div>\n",
       "<style scoped>\n",
       "    .dataframe tbody tr th:only-of-type {\n",
       "        vertical-align: middle;\n",
       "    }\n",
       "\n",
       "    .dataframe tbody tr th {\n",
       "        vertical-align: top;\n",
       "    }\n",
       "\n",
       "    .dataframe thead th {\n",
       "        text-align: right;\n",
       "    }\n",
       "</style>\n",
       "<table border=\"1\" class=\"dataframe\">\n",
       "  <thead>\n",
       "    <tr style=\"text-align: right;\">\n",
       "      <th></th>\n",
       "      <th>suburb</th>\n",
       "      <th>airbnb_listing_id</th>\n",
       "      <th>occupied</th>\n",
       "      <th>price_string</th>\n",
       "      <th>Faturamento_Listings</th>\n",
       "    </tr>\n",
       "  </thead>\n",
       "  <tbody>\n",
       "    <tr>\n",
       "      <th>0</th>\n",
       "      <td>Centro</td>\n",
       "      <td>171</td>\n",
       "      <td>7691</td>\n",
       "      <td>1591225</td>\n",
       "      <td>9305.409357</td>\n",
       "    </tr>\n",
       "    <tr>\n",
       "      <th>1</th>\n",
       "      <td>Lagoa da Conceição</td>\n",
       "      <td>201</td>\n",
       "      <td>9216</td>\n",
       "      <td>2160116</td>\n",
       "      <td>10746.845771</td>\n",
       "    </tr>\n",
       "    <tr>\n",
       "      <th>3</th>\n",
       "      <td>Canasvieiras</td>\n",
       "      <td>816</td>\n",
       "      <td>36553</td>\n",
       "      <td>10682106</td>\n",
       "      <td>13090.816176</td>\n",
       "    </tr>\n",
       "    <tr>\n",
       "      <th>4</th>\n",
       "      <td>Ingleses</td>\n",
       "      <td>1636</td>\n",
       "      <td>68313</td>\n",
       "      <td>24263645</td>\n",
       "      <td>14831.078851</td>\n",
       "    </tr>\n",
       "    <tr>\n",
       "      <th>2</th>\n",
       "      <td>Jurerê</td>\n",
       "      <td>363</td>\n",
       "      <td>18735</td>\n",
       "      <td>7757805</td>\n",
       "      <td>21371.363636</td>\n",
       "    </tr>\n",
       "  </tbody>\n",
       "</table>\n",
       "</div>"
      ],
      "text/plain": [
       "               suburb  airbnb_listing_id  occupied  price_string  \\\n",
       "0              Centro                171      7691       1591225   \n",
       "1  Lagoa da Conceição                201      9216       2160116   \n",
       "3        Canasvieiras                816     36553      10682106   \n",
       "4            Ingleses               1636     68313      24263645   \n",
       "2              Jurerê                363     18735       7757805   \n",
       "\n",
       "   Faturamento_Listings  \n",
       "0           9305.409357  \n",
       "1          10746.845771  \n",
       "3          13090.816176  \n",
       "4          14831.078851  \n",
       "2          21371.363636  "
      ]
     },
     "execution_count": 20,
     "metadata": {},
     "output_type": "execute_result"
    }
   ],
   "source": [
    "faturamento_bairro = pd.pivot_table(junção_final, values = ['price_string','occupied','airbnb_listing_id'], index = 'suburb', aggfunc = {'price_string': np.sum, 'occupied': np.sum, 'airbnb_listing_id': pd.Series.nunique}).astype(int).sort_values(by = 'price_string', ascending = True).reset_index()\n",
    "faturamento_bairro['Faturamento_Listings'] = faturamento_bairro['price_string']/faturamento_bairro['airbnb_listing_id']\n",
    "faturamento_bairro.sort_values(by = 'Faturamento_Listings', ascending = True)"
   ]
  },
  {
   "cell_type": "markdown",
   "id": "929cbf57",
   "metadata": {},
   "source": [
    "### Total de faturamento"
   ]
  },
  {
   "cell_type": "code",
   "execution_count": 21,
   "id": "d06e6c6a",
   "metadata": {},
   "outputs": [
    {
     "data": {
      "text/plain": [
       "46454897"
      ]
     },
     "execution_count": 21,
     "metadata": {},
     "output_type": "execute_result"
    }
   ],
   "source": [
    "total_faturamento = faturamento_bairro.price_string.sum()\n",
    "total_faturamento"
   ]
  },
  {
   "cell_type": "markdown",
   "id": "cdc39ef3",
   "metadata": {},
   "source": [
    "### Porcentagem de faturamento dos bairros com maior e menor faturamento"
   ]
  },
  {
   "cell_type": "code",
   "execution_count": 22,
   "id": "765a3613",
   "metadata": {},
   "outputs": [
    {
     "data": {
      "text/plain": [
       "0.52"
      ]
     },
     "execution_count": 22,
     "metadata": {},
     "output_type": "execute_result"
    }
   ],
   "source": [
    "faturamento_ingleses = faturamento_bairro[faturamento_bairro['suburb'] == 'Ingleses'].price_string.sum()/total_faturamento\n",
    "faturamento_ingleses.round(2)"
   ]
  },
  {
   "cell_type": "code",
   "execution_count": 23,
   "id": "83bb7188",
   "metadata": {},
   "outputs": [
    {
     "data": {
      "text/plain": [
       "0.03"
      ]
     },
     "execution_count": 23,
     "metadata": {},
     "output_type": "execute_result"
    }
   ],
   "source": [
    "faturamento_centro = faturamento_bairro[faturamento_bairro['suburb'] == 'Centro'].price_string.sum()/total_faturamento\n",
    "faturamento_centro.round(2)"
   ]
  },
  {
   "cell_type": "markdown",
   "id": "abdf2b11",
   "metadata": {},
   "source": [
    "### Gráfico do Faturamento x Bairro"
   ]
  },
  {
   "cell_type": "code",
   "execution_count": 24,
   "id": "04bcb22f",
   "metadata": {},
   "outputs": [
    {
     "data": {
      "image/png": "[encoded data removed]",
      "text/plain": [
       "<Figure size 432x288 with 1 Axes>"
      ]
     },
     "metadata": {
      "needs_background": "light"
     },
     "output_type": "display_data"
    }
   ],
   "source": [
    "plt.bar(faturamento_bairro['suburb'],faturamento_bairro['price_string'])\n",
    "plt.title(\"Faturamento x Bairro\")\n",
    "plt.show()"
   ]
  },
  {
   "cell_type": "markdown",
   "id": "a15b6fe8",
   "metadata": {},
   "source": [
    "### Gráfico do faturamento médio por listings"
   ]
  },
  {
   "cell_type": "code",
   "execution_count": 25,
   "id": "59955e4e",
   "metadata": {},
   "outputs": [
    {
     "data": {
      "image/png": "[encoded data removed]",
      "text/plain": [
       "<Figure size 432x288 with 1 Axes>"
      ]
     },
     "metadata": {
      "needs_background": "light"
     },
     "output_type": "display_data"
    }
   ],
   "source": [
    "plt.bar(faturamento_bairro['suburb'],faturamento_bairro['Faturamento_Listings'], width = 0.6)\n",
    "plt.title(\"Faturamento médio x Bairro\")\n",
    "plt.show()"
   ]
  },
  {
   "cell_type": "markdown",
   "id": "69bfb71f",
   "metadata": {},
   "source": [
    "### Conclusão Questão 2"
   ]
  },
  {
   "cell_type": "markdown",
   "id": "530df920",
   "metadata": {},
   "source": [
    "Conforme os dados acima, é possível visualizar que o bairro \"Ingleses\" apresentou o maior faturamento, com R$ 24.263.645, totalizando 52%. \n",
    "Por outro lado, o bairro \"Centro\" apresentou o menor faturamento, com apenas RS 1.591.225, totalizando uma porcentagem de 3% do total faturado. Quanto ao faturamento médio, que o total faturado dividido pelo número de anúncios, o bairro \"Jurerê\" foi o com maior faturamento médio."
   ]
  },
  {
   "cell_type": "markdown",
   "id": "9b19b20a",
   "metadata": {},
   "source": [
    "# QUESTÃO 3: existem correlações entre as características de um anúncio e seu faturamento?\n",
    "### a. Quais? Explique"
   ]
  },
  {
   "cell_type": "markdown",
   "id": "0c972b9a",
   "metadata": {},
   "source": [
    "## Análise da influência das características do anúncio no faturamento"
   ]
  },
  {
   "cell_type": "markdown",
   "id": "8ac7f3cc",
   "metadata": {},
   "source": [
    "### Análise por bairro"
   ]
  },
  {
   "cell_type": "markdown",
   "id": "933af41c",
   "metadata": {},
   "source": [
    "#### Criando a tabela com média de preço, total de listings, ocupação, faturamento total e faturamento médio por listings"
   ]
  },
  {
   "cell_type": "code",
   "execution_count": 26,
   "id": "03de45c9",
   "metadata": {},
   "outputs": [
    {
     "data": {
      "text/html": [
       "<div>\n",
       "<style scoped>\n",
       "    .dataframe tbody tr th:only-of-type {\n",
       "        vertical-align: middle;\n",
       "    }\n",
       "\n",
       "    .dataframe tbody tr th {\n",
       "        vertical-align: top;\n",
       "    }\n",
       "\n",
       "    .dataframe thead th {\n",
       "        text-align: right;\n",
       "    }\n",
       "</style>\n",
       "<table border=\"1\" class=\"dataframe\">\n",
       "  <thead>\n",
       "    <tr style=\"text-align: right;\">\n",
       "      <th></th>\n",
       "      <th>suburb</th>\n",
       "      <th>Média_Price</th>\n",
       "      <th>airbnb_listing_id</th>\n",
       "      <th>occupied</th>\n",
       "      <th>price_string</th>\n",
       "      <th>Faturamento_listings</th>\n",
       "    </tr>\n",
       "  </thead>\n",
       "  <tbody>\n",
       "    <tr>\n",
       "      <th>0</th>\n",
       "      <td>Centro</td>\n",
       "      <td>206</td>\n",
       "      <td>171</td>\n",
       "      <td>7691</td>\n",
       "      <td>1591225</td>\n",
       "      <td>9305.409357</td>\n",
       "    </tr>\n",
       "    <tr>\n",
       "      <th>1</th>\n",
       "      <td>Lagoa da Conceição</td>\n",
       "      <td>234</td>\n",
       "      <td>201</td>\n",
       "      <td>9216</td>\n",
       "      <td>2160116</td>\n",
       "      <td>10746.845771</td>\n",
       "    </tr>\n",
       "    <tr>\n",
       "      <th>2</th>\n",
       "      <td>Canasvieiras</td>\n",
       "      <td>292</td>\n",
       "      <td>816</td>\n",
       "      <td>36553</td>\n",
       "      <td>10682106</td>\n",
       "      <td>13090.816176</td>\n",
       "    </tr>\n",
       "    <tr>\n",
       "      <th>3</th>\n",
       "      <td>Ingleses</td>\n",
       "      <td>355</td>\n",
       "      <td>1636</td>\n",
       "      <td>68313</td>\n",
       "      <td>24263645</td>\n",
       "      <td>14831.078851</td>\n",
       "    </tr>\n",
       "    <tr>\n",
       "      <th>4</th>\n",
       "      <td>Jurerê</td>\n",
       "      <td>414</td>\n",
       "      <td>363</td>\n",
       "      <td>18735</td>\n",
       "      <td>7757805</td>\n",
       "      <td>21371.363636</td>\n",
       "    </tr>\n",
       "  </tbody>\n",
       "</table>\n",
       "</div>"
      ],
      "text/plain": [
       "               suburb  Média_Price  airbnb_listing_id  occupied  price_string  \\\n",
       "0              Centro          206                171      7691       1591225   \n",
       "1  Lagoa da Conceição          234                201      9216       2160116   \n",
       "2        Canasvieiras          292                816     36553      10682106   \n",
       "3            Ingleses          355               1636     68313      24263645   \n",
       "4              Jurerê          414                363     18735       7757805   \n",
       "\n",
       "   Faturamento_listings  \n",
       "0           9305.409357  \n",
       "1          10746.845771  \n",
       "2          13090.816176  \n",
       "3          14831.078851  \n",
       "4          21371.363636  "
      ]
     },
     "execution_count": 26,
     "metadata": {},
     "output_type": "execute_result"
    }
   ],
   "source": [
    "análise_bairro = pd.pivot_table(junção_final, values = ['price_string','airbnb_listing_id','Média_Price','occupied'], index = 'suburb', aggfunc = {'price_string': np.sum,'airbnb_listing_id': pd.Series.nunique,'Média_Price':np.mean, 'occupied': np.sum}).astype(int).sort_values(by = 'Média_Price', ascending = True).reset_index()\n",
    "análise_bairro['Faturamento_listings'] = análise_bairro['price_string']/análise_bairro['airbnb_listing_id']\n",
    "análise_bairro.sort_values(by = 'Faturamento_listings', ascending = True)"
   ]
  },
  {
   "cell_type": "markdown",
   "id": "a91fd232",
   "metadata": {},
   "source": [
    "#### Calculando a porcentagem da ocupação dos bairros \"Jurerê\" e \"Ingleses\""
   ]
  },
  {
   "cell_type": "code",
   "execution_count": 27,
   "id": "b5a63c41",
   "metadata": {},
   "outputs": [
    {
     "data": {
      "text/plain": [
       "0.27"
      ]
     },
     "execution_count": 27,
     "metadata": {},
     "output_type": "execute_result"
    }
   ],
   "source": [
    "porcent_ocupação_Jurerê_Ingleses = análise_bairro[análise_bairro['suburb'] == 'Jurerê'].occupied.sum()/análise_bairro[análise_bairro['suburb'] == 'Ingleses'].occupied.sum()\n",
    "porcent_ocupação_Jurerê_Ingleses.round(2)"
   ]
  },
  {
   "cell_type": "markdown",
   "id": "dd75b402",
   "metadata": {},
   "source": [
    "#### Calculando a porcentagem do faturamento médio dos bairros \"Jurerê\" e \"Ingleses\""
   ]
  },
  {
   "cell_type": "code",
   "execution_count": 28,
   "id": "89842dca",
   "metadata": {},
   "outputs": [
    {
     "data": {
      "text/plain": [
       "1.44"
      ]
     },
     "execution_count": 28,
     "metadata": {},
     "output_type": "execute_result"
    }
   ],
   "source": [
    "porcent_faturamento_médio_Jurerê_Ingleses = análise_bairro[análise_bairro['suburb'] == 'Jurerê'].Faturamento_listings.sum()/análise_bairro[análise_bairro['suburb'] == 'Ingleses'].Faturamento_listings.sum()\n",
    "porcent_faturamento_médio_Jurerê_Ingleses.round(2)"
   ]
  },
  {
   "cell_type": "code",
   "execution_count": 29,
   "id": "bcb4a228",
   "metadata": {},
   "outputs": [
    {
     "data": {
      "image/png": "[encoded data removed]",
      "text/plain": [
       "<Figure size 432x288 with 1 Axes>"
      ]
     },
     "metadata": {
      "needs_background": "light"
     },
     "output_type": "display_data"
    }
   ],
   "source": [
    "plt.bar(análise_bairro['suburb'], análise_bairro['Faturamento_listings'], width = 0.4)\n",
    "plt.title(\"Faturamento médio x Bairro\")\n",
    "plt.show()"
   ]
  },
  {
   "cell_type": "markdown",
   "id": "c456f92c",
   "metadata": {},
   "source": [
    "Conforme demonstrado nos dados acima, o fator \"Bairro\" tem infuência no faturamento, uma vez que o bairro \"Jurerê\" possui o maior valor de faturamento por listings. Isso se dá devido ao fato de que a média de preços dos anúncios em \"Jurerê\" é a maior dentre os bairros citados, com um valor de R$ 414,00 por anúncio. Com isso, mesmo tendo uma ocupação de 18.735, que corresponde apenas a 27% da ocupação obtida, por exemplo, pelo bairro \"Ingleses\", \"Jurerê\" tem um faturamento médio 144% maior que aquele bairro."
   ]
  },
  {
   "cell_type": "markdown",
   "id": "79b869f9",
   "metadata": {},
   "source": [
    "### Número de Quartos"
   ]
  },
  {
   "cell_type": "markdown",
   "id": "805e03bb",
   "metadata": {},
   "source": [
    "#### Criando tabela com número de quartos, média de preços, números de anúncios, total de faturamento e o faturamento médio pelo número de quartos"
   ]
  },
  {
   "cell_type": "code",
   "execution_count": 30,
   "id": "043a3ac6",
   "metadata": {},
   "outputs": [
    {
     "data": {
      "text/html": [
       "<div>\n",
       "<style scoped>\n",
       "    .dataframe tbody tr th:only-of-type {\n",
       "        vertical-align: middle;\n",
       "    }\n",
       "\n",
       "    .dataframe tbody tr th {\n",
       "        vertical-align: top;\n",
       "    }\n",
       "\n",
       "    .dataframe thead th {\n",
       "        text-align: right;\n",
       "    }\n",
       "</style>\n",
       "<table border=\"1\" class=\"dataframe\">\n",
       "  <thead>\n",
       "    <tr style=\"text-align: right;\">\n",
       "      <th></th>\n",
       "      <th>number_of_bedrooms</th>\n",
       "      <th>Média_Price</th>\n",
       "      <th>airbnb_listing_id</th>\n",
       "      <th>price_string</th>\n",
       "      <th>Faturamento/quartos</th>\n",
       "    </tr>\n",
       "  </thead>\n",
       "  <tbody>\n",
       "    <tr>\n",
       "      <th>3</th>\n",
       "      <td>1.0</td>\n",
       "      <td>262</td>\n",
       "      <td>1183</td>\n",
       "      <td>14632161</td>\n",
       "      <td>12368.690617</td>\n",
       "    </tr>\n",
       "    <tr>\n",
       "      <th>4</th>\n",
       "      <td>2.0</td>\n",
       "      <td>352</td>\n",
       "      <td>1434</td>\n",
       "      <td>21121809</td>\n",
       "      <td>14729.294979</td>\n",
       "    </tr>\n",
       "    <tr>\n",
       "      <th>2</th>\n",
       "      <td>3.0</td>\n",
       "      <td>505</td>\n",
       "      <td>404</td>\n",
       "      <td>7976994</td>\n",
       "      <td>19745.034653</td>\n",
       "    </tr>\n",
       "    <tr>\n",
       "      <th>1</th>\n",
       "      <td>4.0</td>\n",
       "      <td>593</td>\n",
       "      <td>41</td>\n",
       "      <td>1081366</td>\n",
       "      <td>26374.780488</td>\n",
       "    </tr>\n",
       "    <tr>\n",
       "      <th>0</th>\n",
       "      <td>5.0</td>\n",
       "      <td>614</td>\n",
       "      <td>3</td>\n",
       "      <td>103230</td>\n",
       "      <td>34410.000000</td>\n",
       "    </tr>\n",
       "  </tbody>\n",
       "</table>\n",
       "</div>"
      ],
      "text/plain": [
       "   number_of_bedrooms  Média_Price  airbnb_listing_id  price_string  \\\n",
       "3                 1.0          262               1183      14632161   \n",
       "4                 2.0          352               1434      21121809   \n",
       "2                 3.0          505                404       7976994   \n",
       "1                 4.0          593                 41       1081366   \n",
       "0                 5.0          614                  3        103230   \n",
       "\n",
       "   Faturamento/quartos  \n",
       "3         12368.690617  \n",
       "4         14729.294979  \n",
       "2         19745.034653  \n",
       "1         26374.780488  \n",
       "0         34410.000000  "
      ]
     },
     "execution_count": 30,
     "metadata": {},
     "output_type": "execute_result"
    }
   ],
   "source": [
    "análise_quartos = pd.pivot_table(junção_final, values = ['price_string','airbnb_listing_id','Média_Price'], index = 'number_of_bedrooms', aggfunc = {'price_string': np.sum,'airbnb_listing_id': pd.Series.nunique,'Média_Price':np.mean}).astype(int).sort_values(by = 'price_string', ascending = True).reset_index()\n",
    "análise_quartos['Faturamento/quartos'] = análise_quartos['price_string']/análise_quartos['airbnb_listing_id']\n",
    "análise_quartos.sort_values(by = 'Faturamento/quartos', ascending = True)"
   ]
  },
  {
   "cell_type": "markdown",
   "id": "759da847",
   "metadata": {},
   "source": [
    "#### Gráfico do Faturamento x Número de quartos"
   ]
  },
  {
   "cell_type": "code",
   "execution_count": 31,
   "id": "8f995e6c",
   "metadata": {},
   "outputs": [
    {
     "data": {
      "image/png": "[encoded data removed]",
      "text/plain": [
       "<Figure size 432x288 with 1 Axes>"
      ]
     },
     "metadata": {
      "needs_background": "light"
     },
     "output_type": "display_data"
    }
   ],
   "source": [
    "plt.bar(análise_quartos['number_of_bedrooms'], análise_quartos['Faturamento/quartos'])\n",
    "plt.title(\"Faturamento x Número de quartos\")\n",
    "plt.show()"
   ]
  },
  {
   "cell_type": "markdown",
   "id": "bb5a3a34",
   "metadata": {},
   "source": [
    "Diante dos dados acima, observa-se que o faturamento também é influenciado pelo número de quartos, uma vez que, quanto maior o número de quartos em um anúncio, maior o faturamento, devido ao fato de que o seu preço médio para reserva é maior. Tal situação fica evidenciada ao se analisar a coluna 'Média_Price'. O preço médio aumenta com o número de quartos."
   ]
  },
  {
   "cell_type": "markdown",
   "id": "2ff235d9",
   "metadata": {},
   "source": [
    "### Número de Banheiros"
   ]
  },
  {
   "cell_type": "code",
   "execution_count": 32,
   "id": "c283f7e7",
   "metadata": {},
   "outputs": [
    {
     "data": {
      "text/html": [
       "<div>\n",
       "<style scoped>\n",
       "    .dataframe tbody tr th:only-of-type {\n",
       "        vertical-align: middle;\n",
       "    }\n",
       "\n",
       "    .dataframe tbody tr th {\n",
       "        vertical-align: top;\n",
       "    }\n",
       "\n",
       "    .dataframe thead th {\n",
       "        text-align: right;\n",
       "    }\n",
       "</style>\n",
       "<table border=\"1\" class=\"dataframe\">\n",
       "  <thead>\n",
       "    <tr style=\"text-align: right;\">\n",
       "      <th></th>\n",
       "      <th>number_of_bathrooms</th>\n",
       "      <th>Média_Price</th>\n",
       "      <th>airbnb_listing_id</th>\n",
       "      <th>price_string</th>\n",
       "      <th>Faturamento_banheiros</th>\n",
       "    </tr>\n",
       "  </thead>\n",
       "  <tbody>\n",
       "    <tr>\n",
       "      <th>0</th>\n",
       "      <td>1.0</td>\n",
       "      <td>268</td>\n",
       "      <td>1764</td>\n",
       "      <td>21811362</td>\n",
       "      <td>12364.717687</td>\n",
       "    </tr>\n",
       "    <tr>\n",
       "      <th>1</th>\n",
       "      <td>2.0</td>\n",
       "      <td>397</td>\n",
       "      <td>1257</td>\n",
       "      <td>20840258</td>\n",
       "      <td>16579.361973</td>\n",
       "    </tr>\n",
       "    <tr>\n",
       "      <th>4</th>\n",
       "      <td>4.0</td>\n",
       "      <td>623</td>\n",
       "      <td>21</td>\n",
       "      <td>471411</td>\n",
       "      <td>22448.142857</td>\n",
       "    </tr>\n",
       "    <tr>\n",
       "      <th>2</th>\n",
       "      <td>3.0</td>\n",
       "      <td>553</td>\n",
       "      <td>139</td>\n",
       "      <td>3141448</td>\n",
       "      <td>22600.345324</td>\n",
       "    </tr>\n",
       "    <tr>\n",
       "      <th>5</th>\n",
       "      <td>5.0</td>\n",
       "      <td>684</td>\n",
       "      <td>4</td>\n",
       "      <td>95768</td>\n",
       "      <td>23942.000000</td>\n",
       "    </tr>\n",
       "    <tr>\n",
       "      <th>3</th>\n",
       "      <td>6.0</td>\n",
       "      <td>594</td>\n",
       "      <td>1</td>\n",
       "      <td>60600</td>\n",
       "      <td>60600.000000</td>\n",
       "    </tr>\n",
       "  </tbody>\n",
       "</table>\n",
       "</div>"
      ],
      "text/plain": [
       "   number_of_bathrooms  Média_Price  airbnb_listing_id  price_string  \\\n",
       "0                  1.0          268               1764      21811362   \n",
       "1                  2.0          397               1257      20840258   \n",
       "4                  4.0          623                 21        471411   \n",
       "2                  3.0          553                139       3141448   \n",
       "5                  5.0          684                  4         95768   \n",
       "3                  6.0          594                  1         60600   \n",
       "\n",
       "   Faturamento_banheiros  \n",
       "0           12364.717687  \n",
       "1           16579.361973  \n",
       "4           22448.142857  \n",
       "2           22600.345324  \n",
       "5           23942.000000  \n",
       "3           60600.000000  "
      ]
     },
     "execution_count": 32,
     "metadata": {},
     "output_type": "execute_result"
    }
   ],
   "source": [
    "análise_banheiros = pd.pivot_table(junção_final, values = ['price_string','airbnb_listing_id','Média_Price'], index = 'number_of_bathrooms', aggfunc = {'price_string': np.sum,'airbnb_listing_id': pd.Series.nunique,'Média_Price':np.mean}).astype(int).sort_values(by = 'Média_Price', ascending = True).reset_index()\n",
    "análise_banheiros['Faturamento_banheiros'] = análise_banheiros['price_string']/análise_banheiros['airbnb_listing_id']\n",
    "análise_banheiros.sort_values(by = 'Faturamento_banheiros', ascending = True)"
   ]
  },
  {
   "cell_type": "code",
   "execution_count": 33,
   "id": "81423cde",
   "metadata": {},
   "outputs": [
    {
     "data": {
      "image/png": "[encoded data removed]",
      "text/plain": [
       "<Figure size 432x288 with 1 Axes>"
      ]
     },
     "metadata": {
      "needs_background": "light"
     },
     "output_type": "display_data"
    }
   ],
   "source": [
    "plt.bar(análise_banheiros['number_of_bathrooms'], análise_banheiros['Faturamento_banheiros'])\n",
    "plt.title(\"Faturamento x Número de banheiros\")\n",
    "plt.show()"
   ]
  },
  {
   "cell_type": "markdown",
   "id": "21fd4deb",
   "metadata": {},
   "source": [
    "Conforme os dados obtidos pela análise da relação entre o faturamento e o número de banheiros, é possível observar que o faturamento é influenciado pelo número de banheiros até uma determinada quantidade. De 1 a 3 banheiros podemos perceber um aumento no faturamento. Contudo, de 3 a 5 banheiros, não há uma influencia no aumento do faturamento. O faturamento relativo aos anúncios com 6 banheiros não traz muitos esclarecimentos, uma vez que possui baixo número de amostras."
   ]
  },
  {
   "cell_type": "markdown",
   "id": "02ef3e7e",
   "metadata": {},
   "source": [
    "### Conclusão Questão 3"
   ]
  },
  {
   "cell_type": "markdown",
   "id": "bf07a3eb",
   "metadata": {},
   "source": [
    "Das análises feitas, pode-se concluir que o fator \"Bairro\" e o \"número de quartos\" tem influencia direta no faturamento. O primeiro pode ser explicado pela valorização da localidade, que gera médias de preços maiores, o que aumenta o faturamento do local, mesmo com um número menor de anúncios e, consequentemente, um número menor de ocupação. Já o segundo, tem sua influência notado pelo fato de que o número de quartos gera preços médios maiores da hospedagem."
   ]
  },
  {
   "cell_type": "markdown",
   "id": "072015da",
   "metadata": {},
   "source": [
    "# QUESTÃO 4: qual a antecedência média das reservas?\n",
    "## a. Esse número é maior ou menor para finais de semana?"
   ]
  },
  {
   "cell_type": "markdown",
   "id": "7f3bf066",
   "metadata": {},
   "source": [
    "### Analisando os dados da tabela junção_final"
   ]
  },
  {
   "cell_type": "code",
   "execution_count": 34,
   "id": "96cbfb76",
   "metadata": {},
   "outputs": [
    {
     "name": "stdout",
     "output_type": "stream",
     "text": [
      "<class 'pandas.core.frame.DataFrame'>\n",
      "Int64Index: 140508 entries, 12 to 354519\n",
      "Data columns (total 16 columns):\n",
      " #   Column               Non-Null Count   Dtype  \n",
      "---  ------               --------------   -----  \n",
      " 0   Unnamed: 0_x         140508 non-null  int64  \n",
      " 1   Unnamed: 0.1         140508 non-null  int64  \n",
      " 2   airbnb_listing_id    140508 non-null  int64  \n",
      " 3   booked_on            140508 non-null  object \n",
      " 4   date                 140508 non-null  object \n",
      " 5   price_string         140508 non-null  float64\n",
      " 6   occupied             140508 non-null  int64  \n",
      " 7   Unnamed: 0_y         140508 non-null  int64  \n",
      " 8   suburb               140508 non-null  object \n",
      " 9   ad_name              140508 non-null  object \n",
      " 10  number_of_bedrooms   133448 non-null  float64\n",
      " 11  number_of_bathrooms  140457 non-null  float64\n",
      " 12  star_rating          92727 non-null   float64\n",
      " 13  is_superhost         140508 non-null  bool   \n",
      " 14  number_of_reviews    140299 non-null  float64\n",
      " 15  Média_Price          140508 non-null  float64\n",
      "dtypes: bool(1), float64(6), int64(5), object(4)\n",
      "memory usage: 17.3+ MB\n"
     ]
    }
   ],
   "source": [
    "junção_final.info()"
   ]
  },
  {
   "cell_type": "markdown",
   "id": "b7f0146c",
   "metadata": {},
   "source": [
    "Será necessário transformar os dados de \"booked_on\" e \"date\" no formato data, para que seja possível encontrar a antecedência da reserva"
   ]
  },
  {
   "cell_type": "markdown",
   "id": "56f0f76f",
   "metadata": {},
   "source": [
    "### Transformando os dados das colunas \"booked_on\" e \"date\" no formato data"
   ]
  },
  {
   "cell_type": "code",
   "execution_count": 35,
   "id": "d83b5bde",
   "metadata": {},
   "outputs": [
    {
     "name": "stderr",
     "output_type": "stream",
     "text": [
      "C:\\Users\\NILTON~1\\AppData\\Local\\Temp/ipykernel_9176/3721885933.py:1: SettingWithCopyWarning: \n",
      "A value is trying to be set on a copy of a slice from a DataFrame.\n",
      "Try using .loc[row_indexer,col_indexer] = value instead\n",
      "\n",
      "See the caveats in the documentation: https://pandas.pydata.org/pandas-docs/stable/user_guide/indexing.html#returning-a-view-versus-a-copy\n",
      "  junção_final ['booked_on'] = pd.to_datetime(junção_final['booked_on'])\n",
      "C:\\Users\\NILTON~1\\AppData\\Local\\Temp/ipykernel_9176/3721885933.py:2: SettingWithCopyWarning: \n",
      "A value is trying to be set on a copy of a slice from a DataFrame.\n",
      "Try using .loc[row_indexer,col_indexer] = value instead\n",
      "\n",
      "See the caveats in the documentation: https://pandas.pydata.org/pandas-docs/stable/user_guide/indexing.html#returning-a-view-versus-a-copy\n",
      "  junção_final ['date'] = pd.to_datetime(junção_final['date'])\n"
     ]
    }
   ],
   "source": [
    "junção_final ['booked_on'] = pd.to_datetime(junção_final['booked_on'])\n",
    "junção_final ['date'] = pd.to_datetime(junção_final['date'])\n"
   ]
  },
  {
   "cell_type": "markdown",
   "id": "c09b7111",
   "metadata": {},
   "source": [
    "### Incluindo uma coluna com a antecedência das reservas"
   ]
  },
  {
   "cell_type": "code",
   "execution_count": 36,
   "id": "71f90804",
   "metadata": {},
   "outputs": [
    {
     "name": "stderr",
     "output_type": "stream",
     "text": [
      "C:\\Users\\NILTON~1\\AppData\\Local\\Temp/ipykernel_9176/2956613029.py:1: SettingWithCopyWarning: \n",
      "A value is trying to be set on a copy of a slice from a DataFrame.\n",
      "Try using .loc[row_indexer,col_indexer] = value instead\n",
      "\n",
      "See the caveats in the documentation: https://pandas.pydata.org/pandas-docs/stable/user_guide/indexing.html#returning-a-view-versus-a-copy\n",
      "  junção_final['antecedência'] = (junção_final.date - junção_final.booked_on).dt.days\n"
     ]
    }
   ],
   "source": [
    "junção_final['antecedência'] = (junção_final.date - junção_final.booked_on).dt.days"
   ]
  },
  {
   "cell_type": "markdown",
   "id": "96985e11",
   "metadata": {},
   "source": [
    "### Incluindo o dia da semana em que foi ocupado"
   ]
  },
  {
   "cell_type": "code",
   "execution_count": 37,
   "id": "7d26786e",
   "metadata": {},
   "outputs": [
    {
     "name": "stderr",
     "output_type": "stream",
     "text": [
      "C:\\Users\\NILTON~1\\AppData\\Local\\Temp/ipykernel_9176/2067844126.py:1: SettingWithCopyWarning: \n",
      "A value is trying to be set on a copy of a slice from a DataFrame.\n",
      "Try using .loc[row_indexer,col_indexer] = value instead\n",
      "\n",
      "See the caveats in the documentation: https://pandas.pydata.org/pandas-docs/stable/user_guide/indexing.html#returning-a-view-versus-a-copy\n",
      "  junção_final['dia_da_semana'] = junção_final['date'].dt.day_name()\n"
     ]
    }
   ],
   "source": [
    "junção_final['dia_da_semana'] = junção_final['date'].dt.day_name()"
   ]
  },
  {
   "cell_type": "code",
   "execution_count": 38,
   "id": "8ea19920",
   "metadata": {},
   "outputs": [
    {
     "data": {
      "text/html": [
       "<div>\n",
       "<style scoped>\n",
       "    .dataframe tbody tr th:only-of-type {\n",
       "        vertical-align: middle;\n",
       "    }\n",
       "\n",
       "    .dataframe tbody tr th {\n",
       "        vertical-align: top;\n",
       "    }\n",
       "\n",
       "    .dataframe thead th {\n",
       "        text-align: right;\n",
       "    }\n",
       "</style>\n",
       "<table border=\"1\" class=\"dataframe\">\n",
       "  <thead>\n",
       "    <tr style=\"text-align: right;\">\n",
       "      <th></th>\n",
       "      <th>Unnamed: 0_x</th>\n",
       "      <th>Unnamed: 0.1</th>\n",
       "      <th>airbnb_listing_id</th>\n",
       "      <th>booked_on</th>\n",
       "      <th>date</th>\n",
       "      <th>price_string</th>\n",
       "      <th>occupied</th>\n",
       "      <th>Unnamed: 0_y</th>\n",
       "      <th>suburb</th>\n",
       "      <th>ad_name</th>\n",
       "      <th>number_of_bedrooms</th>\n",
       "      <th>number_of_bathrooms</th>\n",
       "      <th>star_rating</th>\n",
       "      <th>is_superhost</th>\n",
       "      <th>number_of_reviews</th>\n",
       "      <th>Média_Price</th>\n",
       "      <th>antecedência</th>\n",
       "      <th>dia_da_semana</th>\n",
       "    </tr>\n",
       "  </thead>\n",
       "  <tbody>\n",
       "    <tr>\n",
       "      <th>12</th>\n",
       "      <td>12</td>\n",
       "      <td>6452</td>\n",
       "      <td>40206270</td>\n",
       "      <td>2021-01-01</td>\n",
       "      <td>2021-01-01</td>\n",
       "      <td>380.0</td>\n",
       "      <td>1</td>\n",
       "      <td>326</td>\n",
       "      <td>Ingleses</td>\n",
       "      <td>Loft novo próximo ao MAR!!</td>\n",
       "      <td>1.0</td>\n",
       "      <td>1.0</td>\n",
       "      <td>NaN</td>\n",
       "      <td>False</td>\n",
       "      <td>1.0</td>\n",
       "      <td>380.0</td>\n",
       "      <td>0</td>\n",
       "      <td>Friday</td>\n",
       "    </tr>\n",
       "    <tr>\n",
       "      <th>13</th>\n",
       "      <td>13</td>\n",
       "      <td>6453</td>\n",
       "      <td>40206270</td>\n",
       "      <td>2021-01-01</td>\n",
       "      <td>2021-01-02</td>\n",
       "      <td>380.0</td>\n",
       "      <td>1</td>\n",
       "      <td>326</td>\n",
       "      <td>Ingleses</td>\n",
       "      <td>Loft novo próximo ao MAR!!</td>\n",
       "      <td>1.0</td>\n",
       "      <td>1.0</td>\n",
       "      <td>NaN</td>\n",
       "      <td>False</td>\n",
       "      <td>1.0</td>\n",
       "      <td>380.0</td>\n",
       "      <td>1</td>\n",
       "      <td>Saturday</td>\n",
       "    </tr>\n",
       "    <tr>\n",
       "      <th>52</th>\n",
       "      <td>52</td>\n",
       "      <td>6492</td>\n",
       "      <td>40206270</td>\n",
       "      <td>2021-02-10</td>\n",
       "      <td>2021-02-10</td>\n",
       "      <td>195.0</td>\n",
       "      <td>1</td>\n",
       "      <td>326</td>\n",
       "      <td>Ingleses</td>\n",
       "      <td>Loft novo próximo ao MAR!!</td>\n",
       "      <td>1.0</td>\n",
       "      <td>1.0</td>\n",
       "      <td>NaN</td>\n",
       "      <td>False</td>\n",
       "      <td>1.0</td>\n",
       "      <td>195.0</td>\n",
       "      <td>0</td>\n",
       "      <td>Wednesday</td>\n",
       "    </tr>\n",
       "    <tr>\n",
       "      <th>53</th>\n",
       "      <td>53</td>\n",
       "      <td>6493</td>\n",
       "      <td>40206270</td>\n",
       "      <td>2021-02-10</td>\n",
       "      <td>2021-02-11</td>\n",
       "      <td>350.0</td>\n",
       "      <td>1</td>\n",
       "      <td>326</td>\n",
       "      <td>Ingleses</td>\n",
       "      <td>Loft novo próximo ao MAR!!</td>\n",
       "      <td>1.0</td>\n",
       "      <td>1.0</td>\n",
       "      <td>NaN</td>\n",
       "      <td>False</td>\n",
       "      <td>1.0</td>\n",
       "      <td>350.0</td>\n",
       "      <td>1</td>\n",
       "      <td>Thursday</td>\n",
       "    </tr>\n",
       "    <tr>\n",
       "      <th>54</th>\n",
       "      <td>54</td>\n",
       "      <td>6494</td>\n",
       "      <td>40206270</td>\n",
       "      <td>2021-02-10</td>\n",
       "      <td>2021-02-12</td>\n",
       "      <td>350.0</td>\n",
       "      <td>1</td>\n",
       "      <td>326</td>\n",
       "      <td>Ingleses</td>\n",
       "      <td>Loft novo próximo ao MAR!!</td>\n",
       "      <td>1.0</td>\n",
       "      <td>1.0</td>\n",
       "      <td>NaN</td>\n",
       "      <td>False</td>\n",
       "      <td>1.0</td>\n",
       "      <td>350.0</td>\n",
       "      <td>2</td>\n",
       "      <td>Friday</td>\n",
       "    </tr>\n",
       "    <tr>\n",
       "      <th>...</th>\n",
       "      <td>...</td>\n",
       "      <td>...</td>\n",
       "      <td>...</td>\n",
       "      <td>...</td>\n",
       "      <td>...</td>\n",
       "      <td>...</td>\n",
       "      <td>...</td>\n",
       "      <td>...</td>\n",
       "      <td>...</td>\n",
       "      <td>...</td>\n",
       "      <td>...</td>\n",
       "      <td>...</td>\n",
       "      <td>...</td>\n",
       "      <td>...</td>\n",
       "      <td>...</td>\n",
       "      <td>...</td>\n",
       "      <td>...</td>\n",
       "      <td>...</td>\n",
       "    </tr>\n",
       "    <tr>\n",
       "      <th>354508</th>\n",
       "      <td>64589</td>\n",
       "      <td>4298108</td>\n",
       "      <td>40199361</td>\n",
       "      <td>2020-09-16</td>\n",
       "      <td>2021-03-19</td>\n",
       "      <td>250.0</td>\n",
       "      <td>1</td>\n",
       "      <td>3244</td>\n",
       "      <td>Canasvieiras</td>\n",
       "      <td>Hospede-se no Porto Caravelas em Canasvieiras.</td>\n",
       "      <td>2.0</td>\n",
       "      <td>1.0</td>\n",
       "      <td>5.0</td>\n",
       "      <td>False</td>\n",
       "      <td>4.0</td>\n",
       "      <td>250.0</td>\n",
       "      <td>184</td>\n",
       "      <td>Friday</td>\n",
       "    </tr>\n",
       "    <tr>\n",
       "      <th>354514</th>\n",
       "      <td>64595</td>\n",
       "      <td>4298114</td>\n",
       "      <td>40199361</td>\n",
       "      <td>2020-09-14</td>\n",
       "      <td>2021-03-25</td>\n",
       "      <td>250.0</td>\n",
       "      <td>1</td>\n",
       "      <td>3244</td>\n",
       "      <td>Canasvieiras</td>\n",
       "      <td>Hospede-se no Porto Caravelas em Canasvieiras.</td>\n",
       "      <td>2.0</td>\n",
       "      <td>1.0</td>\n",
       "      <td>5.0</td>\n",
       "      <td>False</td>\n",
       "      <td>4.0</td>\n",
       "      <td>250.0</td>\n",
       "      <td>192</td>\n",
       "      <td>Thursday</td>\n",
       "    </tr>\n",
       "    <tr>\n",
       "      <th>354517</th>\n",
       "      <td>64598</td>\n",
       "      <td>4298117</td>\n",
       "      <td>40199361</td>\n",
       "      <td>2020-09-14</td>\n",
       "      <td>2021-03-28</td>\n",
       "      <td>250.0</td>\n",
       "      <td>1</td>\n",
       "      <td>3244</td>\n",
       "      <td>Canasvieiras</td>\n",
       "      <td>Hospede-se no Porto Caravelas em Canasvieiras.</td>\n",
       "      <td>2.0</td>\n",
       "      <td>1.0</td>\n",
       "      <td>5.0</td>\n",
       "      <td>False</td>\n",
       "      <td>4.0</td>\n",
       "      <td>250.0</td>\n",
       "      <td>195</td>\n",
       "      <td>Sunday</td>\n",
       "    </tr>\n",
       "    <tr>\n",
       "      <th>354518</th>\n",
       "      <td>64599</td>\n",
       "      <td>4298118</td>\n",
       "      <td>40199361</td>\n",
       "      <td>2020-09-14</td>\n",
       "      <td>2021-03-29</td>\n",
       "      <td>250.0</td>\n",
       "      <td>1</td>\n",
       "      <td>3244</td>\n",
       "      <td>Canasvieiras</td>\n",
       "      <td>Hospede-se no Porto Caravelas em Canasvieiras.</td>\n",
       "      <td>2.0</td>\n",
       "      <td>1.0</td>\n",
       "      <td>5.0</td>\n",
       "      <td>False</td>\n",
       "      <td>4.0</td>\n",
       "      <td>250.0</td>\n",
       "      <td>196</td>\n",
       "      <td>Monday</td>\n",
       "    </tr>\n",
       "    <tr>\n",
       "      <th>354519</th>\n",
       "      <td>64600</td>\n",
       "      <td>4298119</td>\n",
       "      <td>40199361</td>\n",
       "      <td>2020-12-03</td>\n",
       "      <td>2021-03-30</td>\n",
       "      <td>200.0</td>\n",
       "      <td>1</td>\n",
       "      <td>3244</td>\n",
       "      <td>Canasvieiras</td>\n",
       "      <td>Hospede-se no Porto Caravelas em Canasvieiras.</td>\n",
       "      <td>2.0</td>\n",
       "      <td>1.0</td>\n",
       "      <td>5.0</td>\n",
       "      <td>False</td>\n",
       "      <td>4.0</td>\n",
       "      <td>200.0</td>\n",
       "      <td>117</td>\n",
       "      <td>Tuesday</td>\n",
       "    </tr>\n",
       "  </tbody>\n",
       "</table>\n",
       "<p>140508 rows × 18 columns</p>\n",
       "</div>"
      ],
      "text/plain": [
       "        Unnamed: 0_x  Unnamed: 0.1  airbnb_listing_id  booked_on       date  \\\n",
       "12                12          6452           40206270 2021-01-01 2021-01-01   \n",
       "13                13          6453           40206270 2021-01-01 2021-01-02   \n",
       "52                52          6492           40206270 2021-02-10 2021-02-10   \n",
       "53                53          6493           40206270 2021-02-10 2021-02-11   \n",
       "54                54          6494           40206270 2021-02-10 2021-02-12   \n",
       "...              ...           ...                ...        ...        ...   \n",
       "354508         64589       4298108           40199361 2020-09-16 2021-03-19   \n",
       "354514         64595       4298114           40199361 2020-09-14 2021-03-25   \n",
       "354517         64598       4298117           40199361 2020-09-14 2021-03-28   \n",
       "354518         64599       4298118           40199361 2020-09-14 2021-03-29   \n",
       "354519         64600       4298119           40199361 2020-12-03 2021-03-30   \n",
       "\n",
       "        price_string  occupied  Unnamed: 0_y        suburb  \\\n",
       "12             380.0         1           326      Ingleses   \n",
       "13             380.0         1           326      Ingleses   \n",
       "52             195.0         1           326      Ingleses   \n",
       "53             350.0         1           326      Ingleses   \n",
       "54             350.0         1           326      Ingleses   \n",
       "...              ...       ...           ...           ...   \n",
       "354508         250.0         1          3244  Canasvieiras   \n",
       "354514         250.0         1          3244  Canasvieiras   \n",
       "354517         250.0         1          3244  Canasvieiras   \n",
       "354518         250.0         1          3244  Canasvieiras   \n",
       "354519         200.0         1          3244  Canasvieiras   \n",
       "\n",
       "                                               ad_name  number_of_bedrooms  \\\n",
       "12                          Loft novo próximo ao MAR!!                 1.0   \n",
       "13                          Loft novo próximo ao MAR!!                 1.0   \n",
       "52                          Loft novo próximo ao MAR!!                 1.0   \n",
       "53                          Loft novo próximo ao MAR!!                 1.0   \n",
       "54                          Loft novo próximo ao MAR!!                 1.0   \n",
       "...                                                ...                 ...   \n",
       "354508  Hospede-se no Porto Caravelas em Canasvieiras.                 2.0   \n",
       "354514  Hospede-se no Porto Caravelas em Canasvieiras.                 2.0   \n",
       "354517  Hospede-se no Porto Caravelas em Canasvieiras.                 2.0   \n",
       "354518  Hospede-se no Porto Caravelas em Canasvieiras.                 2.0   \n",
       "354519  Hospede-se no Porto Caravelas em Canasvieiras.                 2.0   \n",
       "\n",
       "        number_of_bathrooms  star_rating  is_superhost  number_of_reviews  \\\n",
       "12                      1.0          NaN         False                1.0   \n",
       "13                      1.0          NaN         False                1.0   \n",
       "52                      1.0          NaN         False                1.0   \n",
       "53                      1.0          NaN         False                1.0   \n",
       "54                      1.0          NaN         False                1.0   \n",
       "...                     ...          ...           ...                ...   \n",
       "354508                  1.0          5.0         False                4.0   \n",
       "354514                  1.0          5.0         False                4.0   \n",
       "354517                  1.0          5.0         False                4.0   \n",
       "354518                  1.0          5.0         False                4.0   \n",
       "354519                  1.0          5.0         False                4.0   \n",
       "\n",
       "        Média_Price  antecedência dia_da_semana  \n",
       "12            380.0             0        Friday  \n",
       "13            380.0             1      Saturday  \n",
       "52            195.0             0     Wednesday  \n",
       "53            350.0             1      Thursday  \n",
       "54            350.0             2        Friday  \n",
       "...             ...           ...           ...  \n",
       "354508        250.0           184        Friday  \n",
       "354514        250.0           192      Thursday  \n",
       "354517        250.0           195        Sunday  \n",
       "354518        250.0           196        Monday  \n",
       "354519        200.0           117       Tuesday  \n",
       "\n",
       "[140508 rows x 18 columns]"
      ]
     },
     "execution_count": 38,
     "metadata": {},
     "output_type": "execute_result"
    }
   ],
   "source": [
    "junção_final"
   ]
  },
  {
   "cell_type": "markdown",
   "id": "8fa9d179",
   "metadata": {},
   "source": [
    "### Tabela com atencedência média por bairro"
   ]
  },
  {
   "cell_type": "code",
   "execution_count": 39,
   "id": "73a1e3d5",
   "metadata": {},
   "outputs": [
    {
     "data": {
      "text/html": [
       "<div>\n",
       "<style scoped>\n",
       "    .dataframe tbody tr th:only-of-type {\n",
       "        vertical-align: middle;\n",
       "    }\n",
       "\n",
       "    .dataframe tbody tr th {\n",
       "        vertical-align: top;\n",
       "    }\n",
       "\n",
       "    .dataframe thead th {\n",
       "        text-align: right;\n",
       "    }\n",
       "</style>\n",
       "<table border=\"1\" class=\"dataframe\">\n",
       "  <thead>\n",
       "    <tr style=\"text-align: right;\">\n",
       "      <th></th>\n",
       "      <th>suburb</th>\n",
       "      <th>antecedência</th>\n",
       "    </tr>\n",
       "  </thead>\n",
       "  <tbody>\n",
       "    <tr>\n",
       "      <th>0</th>\n",
       "      <td>Centro</td>\n",
       "      <td>23.146535</td>\n",
       "    </tr>\n",
       "    <tr>\n",
       "      <th>1</th>\n",
       "      <td>Lagoa da Conceição</td>\n",
       "      <td>29.148003</td>\n",
       "    </tr>\n",
       "    <tr>\n",
       "      <th>2</th>\n",
       "      <td>Canasvieiras</td>\n",
       "      <td>30.699997</td>\n",
       "    </tr>\n",
       "    <tr>\n",
       "      <th>3</th>\n",
       "      <td>Jurerê</td>\n",
       "      <td>31.211316</td>\n",
       "    </tr>\n",
       "    <tr>\n",
       "      <th>4</th>\n",
       "      <td>Ingleses</td>\n",
       "      <td>46.308785</td>\n",
       "    </tr>\n",
       "  </tbody>\n",
       "</table>\n",
       "</div>"
      ],
      "text/plain": [
       "               suburb  antecedência\n",
       "0              Centro     23.146535\n",
       "1  Lagoa da Conceição     29.148003\n",
       "2        Canasvieiras     30.699997\n",
       "3              Jurerê     31.211316\n",
       "4            Ingleses     46.308785"
      ]
     },
     "execution_count": 39,
     "metadata": {},
     "output_type": "execute_result"
    }
   ],
   "source": [
    "análise_antecedência = pd.pivot_table(junção_final, values = 'antecedência',index = 'suburb', aggfunc = np.mean).sort_values(by = 'antecedência', ascending = True).reset_index()\n",
    "análise_antecedência"
   ]
  },
  {
   "cell_type": "code",
   "execution_count": 40,
   "id": "4b590468",
   "metadata": {},
   "outputs": [
    {
     "data": {
      "image/png": "[encoded data removed]",
      "text/plain": [
       "<Figure size 432x288 with 1 Axes>"
      ]
     },
     "metadata": {
      "needs_background": "light"
     },
     "output_type": "display_data"
    }
   ],
   "source": [
    "plt.bar(análise_antecedência['suburb'], análise_antecedência['antecedência'],width=0.4)\n",
    "plt.title(\"Antecedência x Bairro\")\n",
    "plt.show()"
   ]
  },
  {
   "cell_type": "markdown",
   "id": "1d5c452e",
   "metadata": {},
   "source": [
    "### Média geral da antecedência na reserva"
   ]
  },
  {
   "cell_type": "code",
   "execution_count": 41,
   "id": "d57ce4bb",
   "metadata": {},
   "outputs": [
    {
     "data": {
      "text/plain": [
       "37.841695846499846"
      ]
     },
     "execution_count": 41,
     "metadata": {},
     "output_type": "execute_result"
    }
   ],
   "source": [
    "junção_final['antecedência'].mean()"
   ]
  },
  {
   "cell_type": "markdown",
   "id": "9cc5d5ba",
   "metadata": {},
   "source": [
    "### Média geral de antecedência nos fins de semana"
   ]
  },
  {
   "cell_type": "code",
   "execution_count": 42,
   "id": "37e99e71",
   "metadata": {
    "scrolled": true
   },
   "outputs": [
    {
     "data": {
      "text/html": [
       "<div>\n",
       "<style scoped>\n",
       "    .dataframe tbody tr th:only-of-type {\n",
       "        vertical-align: middle;\n",
       "    }\n",
       "\n",
       "    .dataframe tbody tr th {\n",
       "        vertical-align: top;\n",
       "    }\n",
       "\n",
       "    .dataframe thead th {\n",
       "        text-align: right;\n",
       "    }\n",
       "</style>\n",
       "<table border=\"1\" class=\"dataframe\">\n",
       "  <thead>\n",
       "    <tr style=\"text-align: right;\">\n",
       "      <th></th>\n",
       "      <th>Unnamed: 0_x</th>\n",
       "      <th>Unnamed: 0.1</th>\n",
       "      <th>airbnb_listing_id</th>\n",
       "      <th>booked_on</th>\n",
       "      <th>date</th>\n",
       "      <th>price_string</th>\n",
       "      <th>occupied</th>\n",
       "      <th>Unnamed: 0_y</th>\n",
       "      <th>suburb</th>\n",
       "      <th>ad_name</th>\n",
       "      <th>number_of_bedrooms</th>\n",
       "      <th>number_of_bathrooms</th>\n",
       "      <th>star_rating</th>\n",
       "      <th>is_superhost</th>\n",
       "      <th>number_of_reviews</th>\n",
       "      <th>Média_Price</th>\n",
       "      <th>antecedência</th>\n",
       "      <th>dia_da_semana</th>\n",
       "    </tr>\n",
       "  </thead>\n",
       "  <tbody>\n",
       "    <tr>\n",
       "      <th>13</th>\n",
       "      <td>13</td>\n",
       "      <td>6453</td>\n",
       "      <td>40206270</td>\n",
       "      <td>2021-01-01</td>\n",
       "      <td>2021-01-02</td>\n",
       "      <td>380.0</td>\n",
       "      <td>1</td>\n",
       "      <td>326</td>\n",
       "      <td>Ingleses</td>\n",
       "      <td>Loft novo próximo ao MAR!!</td>\n",
       "      <td>1.0</td>\n",
       "      <td>1.0</td>\n",
       "      <td>NaN</td>\n",
       "      <td>False</td>\n",
       "      <td>1.0</td>\n",
       "      <td>380.0</td>\n",
       "      <td>1</td>\n",
       "      <td>Saturday</td>\n",
       "    </tr>\n",
       "    <tr>\n",
       "      <th>56</th>\n",
       "      <td>56</td>\n",
       "      <td>6496</td>\n",
       "      <td>40206270</td>\n",
       "      <td>2021-02-10</td>\n",
       "      <td>2021-02-13</td>\n",
       "      <td>350.0</td>\n",
       "      <td>1</td>\n",
       "      <td>326</td>\n",
       "      <td>Ingleses</td>\n",
       "      <td>Loft novo próximo ao MAR!!</td>\n",
       "      <td>1.0</td>\n",
       "      <td>1.0</td>\n",
       "      <td>NaN</td>\n",
       "      <td>False</td>\n",
       "      <td>1.0</td>\n",
       "      <td>350.0</td>\n",
       "      <td>3</td>\n",
       "      <td>Saturday</td>\n",
       "    </tr>\n",
       "    <tr>\n",
       "      <th>57</th>\n",
       "      <td>57</td>\n",
       "      <td>6497</td>\n",
       "      <td>40206270</td>\n",
       "      <td>2021-02-10</td>\n",
       "      <td>2021-02-13</td>\n",
       "      <td>350.0</td>\n",
       "      <td>1</td>\n",
       "      <td>326</td>\n",
       "      <td>Ingleses</td>\n",
       "      <td>Loft novo próximo ao MAR!!</td>\n",
       "      <td>1.0</td>\n",
       "      <td>1.0</td>\n",
       "      <td>NaN</td>\n",
       "      <td>False</td>\n",
       "      <td>1.0</td>\n",
       "      <td>350.0</td>\n",
       "      <td>3</td>\n",
       "      <td>Saturday</td>\n",
       "    </tr>\n",
       "    <tr>\n",
       "      <th>58</th>\n",
       "      <td>58</td>\n",
       "      <td>6498</td>\n",
       "      <td>40206270</td>\n",
       "      <td>2021-02-10</td>\n",
       "      <td>2021-02-14</td>\n",
       "      <td>350.0</td>\n",
       "      <td>1</td>\n",
       "      <td>326</td>\n",
       "      <td>Ingleses</td>\n",
       "      <td>Loft novo próximo ao MAR!!</td>\n",
       "      <td>1.0</td>\n",
       "      <td>1.0</td>\n",
       "      <td>NaN</td>\n",
       "      <td>False</td>\n",
       "      <td>1.0</td>\n",
       "      <td>350.0</td>\n",
       "      <td>4</td>\n",
       "      <td>Sunday</td>\n",
       "    </tr>\n",
       "    <tr>\n",
       "      <th>59</th>\n",
       "      <td>59</td>\n",
       "      <td>6499</td>\n",
       "      <td>40206270</td>\n",
       "      <td>2021-02-10</td>\n",
       "      <td>2021-02-14</td>\n",
       "      <td>350.0</td>\n",
       "      <td>1</td>\n",
       "      <td>326</td>\n",
       "      <td>Ingleses</td>\n",
       "      <td>Loft novo próximo ao MAR!!</td>\n",
       "      <td>1.0</td>\n",
       "      <td>1.0</td>\n",
       "      <td>NaN</td>\n",
       "      <td>False</td>\n",
       "      <td>1.0</td>\n",
       "      <td>350.0</td>\n",
       "      <td>4</td>\n",
       "      <td>Sunday</td>\n",
       "    </tr>\n",
       "    <tr>\n",
       "      <th>...</th>\n",
       "      <td>...</td>\n",
       "      <td>...</td>\n",
       "      <td>...</td>\n",
       "      <td>...</td>\n",
       "      <td>...</td>\n",
       "      <td>...</td>\n",
       "      <td>...</td>\n",
       "      <td>...</td>\n",
       "      <td>...</td>\n",
       "      <td>...</td>\n",
       "      <td>...</td>\n",
       "      <td>...</td>\n",
       "      <td>...</td>\n",
       "      <td>...</td>\n",
       "      <td>...</td>\n",
       "      <td>...</td>\n",
       "      <td>...</td>\n",
       "      <td>...</td>\n",
       "    </tr>\n",
       "    <tr>\n",
       "      <th>354485</th>\n",
       "      <td>64566</td>\n",
       "      <td>4298023</td>\n",
       "      <td>40199361</td>\n",
       "      <td>2020-11-17</td>\n",
       "      <td>2020-12-27</td>\n",
       "      <td>350.0</td>\n",
       "      <td>1</td>\n",
       "      <td>3244</td>\n",
       "      <td>Canasvieiras</td>\n",
       "      <td>Hospede-se no Porto Caravelas em Canasvieiras.</td>\n",
       "      <td>2.0</td>\n",
       "      <td>1.0</td>\n",
       "      <td>5.0</td>\n",
       "      <td>False</td>\n",
       "      <td>4.0</td>\n",
       "      <td>350.0</td>\n",
       "      <td>40</td>\n",
       "      <td>Sunday</td>\n",
       "    </tr>\n",
       "    <tr>\n",
       "      <th>354491</th>\n",
       "      <td>64572</td>\n",
       "      <td>4298029</td>\n",
       "      <td>40199361</td>\n",
       "      <td>2020-10-16</td>\n",
       "      <td>2021-01-02</td>\n",
       "      <td>500.0</td>\n",
       "      <td>1</td>\n",
       "      <td>3244</td>\n",
       "      <td>Canasvieiras</td>\n",
       "      <td>Hospede-se no Porto Caravelas em Canasvieiras.</td>\n",
       "      <td>2.0</td>\n",
       "      <td>1.0</td>\n",
       "      <td>5.0</td>\n",
       "      <td>False</td>\n",
       "      <td>4.0</td>\n",
       "      <td>500.0</td>\n",
       "      <td>78</td>\n",
       "      <td>Saturday</td>\n",
       "    </tr>\n",
       "    <tr>\n",
       "      <th>354502</th>\n",
       "      <td>64583</td>\n",
       "      <td>4298102</td>\n",
       "      <td>40199361</td>\n",
       "      <td>2020-09-16</td>\n",
       "      <td>2021-03-13</td>\n",
       "      <td>250.0</td>\n",
       "      <td>1</td>\n",
       "      <td>3244</td>\n",
       "      <td>Canasvieiras</td>\n",
       "      <td>Hospede-se no Porto Caravelas em Canasvieiras.</td>\n",
       "      <td>2.0</td>\n",
       "      <td>1.0</td>\n",
       "      <td>5.0</td>\n",
       "      <td>False</td>\n",
       "      <td>4.0</td>\n",
       "      <td>250.0</td>\n",
       "      <td>178</td>\n",
       "      <td>Saturday</td>\n",
       "    </tr>\n",
       "    <tr>\n",
       "      <th>354503</th>\n",
       "      <td>64584</td>\n",
       "      <td>4298103</td>\n",
       "      <td>40199361</td>\n",
       "      <td>2020-09-16</td>\n",
       "      <td>2021-03-14</td>\n",
       "      <td>250.0</td>\n",
       "      <td>1</td>\n",
       "      <td>3244</td>\n",
       "      <td>Canasvieiras</td>\n",
       "      <td>Hospede-se no Porto Caravelas em Canasvieiras.</td>\n",
       "      <td>2.0</td>\n",
       "      <td>1.0</td>\n",
       "      <td>5.0</td>\n",
       "      <td>False</td>\n",
       "      <td>4.0</td>\n",
       "      <td>250.0</td>\n",
       "      <td>179</td>\n",
       "      <td>Sunday</td>\n",
       "    </tr>\n",
       "    <tr>\n",
       "      <th>354517</th>\n",
       "      <td>64598</td>\n",
       "      <td>4298117</td>\n",
       "      <td>40199361</td>\n",
       "      <td>2020-09-14</td>\n",
       "      <td>2021-03-28</td>\n",
       "      <td>250.0</td>\n",
       "      <td>1</td>\n",
       "      <td>3244</td>\n",
       "      <td>Canasvieiras</td>\n",
       "      <td>Hospede-se no Porto Caravelas em Canasvieiras.</td>\n",
       "      <td>2.0</td>\n",
       "      <td>1.0</td>\n",
       "      <td>5.0</td>\n",
       "      <td>False</td>\n",
       "      <td>4.0</td>\n",
       "      <td>250.0</td>\n",
       "      <td>195</td>\n",
       "      <td>Sunday</td>\n",
       "    </tr>\n",
       "  </tbody>\n",
       "</table>\n",
       "<p>43075 rows × 18 columns</p>\n",
       "</div>"
      ],
      "text/plain": [
       "        Unnamed: 0_x  Unnamed: 0.1  airbnb_listing_id  booked_on       date  \\\n",
       "13                13          6453           40206270 2021-01-01 2021-01-02   \n",
       "56                56          6496           40206270 2021-02-10 2021-02-13   \n",
       "57                57          6497           40206270 2021-02-10 2021-02-13   \n",
       "58                58          6498           40206270 2021-02-10 2021-02-14   \n",
       "59                59          6499           40206270 2021-02-10 2021-02-14   \n",
       "...              ...           ...                ...        ...        ...   \n",
       "354485         64566       4298023           40199361 2020-11-17 2020-12-27   \n",
       "354491         64572       4298029           40199361 2020-10-16 2021-01-02   \n",
       "354502         64583       4298102           40199361 2020-09-16 2021-03-13   \n",
       "354503         64584       4298103           40199361 2020-09-16 2021-03-14   \n",
       "354517         64598       4298117           40199361 2020-09-14 2021-03-28   \n",
       "\n",
       "        price_string  occupied  Unnamed: 0_y        suburb  \\\n",
       "13             380.0         1           326      Ingleses   \n",
       "56             350.0         1           326      Ingleses   \n",
       "57             350.0         1           326      Ingleses   \n",
       "58             350.0         1           326      Ingleses   \n",
       "59             350.0         1           326      Ingleses   \n",
       "...              ...       ...           ...           ...   \n",
       "354485         350.0         1          3244  Canasvieiras   \n",
       "354491         500.0         1          3244  Canasvieiras   \n",
       "354502         250.0         1          3244  Canasvieiras   \n",
       "354503         250.0         1          3244  Canasvieiras   \n",
       "354517         250.0         1          3244  Canasvieiras   \n",
       "\n",
       "                                               ad_name  number_of_bedrooms  \\\n",
       "13                          Loft novo próximo ao MAR!!                 1.0   \n",
       "56                          Loft novo próximo ao MAR!!                 1.0   \n",
       "57                          Loft novo próximo ao MAR!!                 1.0   \n",
       "58                          Loft novo próximo ao MAR!!                 1.0   \n",
       "59                          Loft novo próximo ao MAR!!                 1.0   \n",
       "...                                                ...                 ...   \n",
       "354485  Hospede-se no Porto Caravelas em Canasvieiras.                 2.0   \n",
       "354491  Hospede-se no Porto Caravelas em Canasvieiras.                 2.0   \n",
       "354502  Hospede-se no Porto Caravelas em Canasvieiras.                 2.0   \n",
       "354503  Hospede-se no Porto Caravelas em Canasvieiras.                 2.0   \n",
       "354517  Hospede-se no Porto Caravelas em Canasvieiras.                 2.0   \n",
       "\n",
       "        number_of_bathrooms  star_rating  is_superhost  number_of_reviews  \\\n",
       "13                      1.0          NaN         False                1.0   \n",
       "56                      1.0          NaN         False                1.0   \n",
       "57                      1.0          NaN         False                1.0   \n",
       "58                      1.0          NaN         False                1.0   \n",
       "59                      1.0          NaN         False                1.0   \n",
       "...                     ...          ...           ...                ...   \n",
       "354485                  1.0          5.0         False                4.0   \n",
       "354491                  1.0          5.0         False                4.0   \n",
       "354502                  1.0          5.0         False                4.0   \n",
       "354503                  1.0          5.0         False                4.0   \n",
       "354517                  1.0          5.0         False                4.0   \n",
       "\n",
       "        Média_Price  antecedência dia_da_semana  \n",
       "13            380.0             1      Saturday  \n",
       "56            350.0             3      Saturday  \n",
       "57            350.0             3      Saturday  \n",
       "58            350.0             4        Sunday  \n",
       "59            350.0             4        Sunday  \n",
       "...             ...           ...           ...  \n",
       "354485        350.0            40        Sunday  \n",
       "354491        500.0            78      Saturday  \n",
       "354502        250.0           178      Saturday  \n",
       "354503        250.0           179        Sunday  \n",
       "354517        250.0           195        Sunday  \n",
       "\n",
       "[43075 rows x 18 columns]"
      ]
     },
     "execution_count": 42,
     "metadata": {},
     "output_type": "execute_result"
    }
   ],
   "source": [
    "fds = ['Saturday','Sunday']\n",
    "\n",
    "junção_final_fds = junção_final[junção_final['dia_da_semana'].isin(fds)]\n",
    "junção_final_fds"
   ]
  },
  {
   "cell_type": "code",
   "execution_count": 43,
   "id": "ed7a034f",
   "metadata": {},
   "outputs": [
    {
     "data": {
      "text/plain": [
       "37.13446314567614"
      ]
     },
     "execution_count": 43,
     "metadata": {},
     "output_type": "execute_result"
    }
   ],
   "source": [
    "junção_final_fds['antecedência'].mean()"
   ]
  },
  {
   "cell_type": "markdown",
   "id": "97ca9110",
   "metadata": {},
   "source": [
    "### Porcentagem entre a antecedência nos fins de semana e no geral"
   ]
  },
  {
   "cell_type": "code",
   "execution_count": 44,
   "id": "e9ab88a2",
   "metadata": {},
   "outputs": [
    {
     "name": "stdout",
     "output_type": "stream",
     "text": [
      "1.8689244364007984 %\n"
     ]
    }
   ],
   "source": [
    "porcent_fds_geral = 1 - junção_final_fds['antecedência'].mean()/junção_final['antecedência'].mean()\n",
    "print(porcent_fds_geral*100,\"%\")"
   ]
  },
  {
   "cell_type": "markdown",
   "id": "639499e0",
   "metadata": {},
   "source": [
    "### Conclusão Questão 4"
   ]
  },
  {
   "cell_type": "markdown",
   "id": "0d7fc81f",
   "metadata": {},
   "source": [
    "Conforme os dados avaliados, é possível perceber que a média de antecedência geral das reservas é de 37,84 dias. Já a média de antecedência das reservas nos fins de semana é de 37,10 dias. Diante disso, percebe-se que a reserva nos fins de semana leva 1,87% menos dias a ser feita do que no geral dos dias, o que demonstra uma antecedência ligeiramente menor para os fins de semana. Ademais, o bairro com a maior média de antecedência foi o bairro \"Ingleses\", com 46,31 dias, aproximadamente. Já o bairro com a menor média de antecedência foi o bairro \"Centro\", com 23,15 dias, aproximadamente."
   ]
  },
  {
   "cell_type": "code",
   "execution_count": null,
   "id": "731f5d4d",
   "metadata": {},
   "outputs": [],
   "source": []
  }
 ],
 "metadata": {
  "kernelspec": {
   "display_name": "Python 3 (ipykernel)",
   "language": "python",
   "name": "python3"
  },
  "language_info": {
   "codemirror_mode": {
    "name": "ipython",
    "version": 3
   },
   "file_extension": ".py",
   "mimetype": "text/x-python",
   "name": "python",
   "nbconvert_exporter": "python",
   "pygments_lexer": "ipython3",
   "version": "3.9.7"
  }
 },
 "nbformat": 4,
 "nbformat_minor": 5
}
